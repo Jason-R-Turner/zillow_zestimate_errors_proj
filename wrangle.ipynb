{
 "cells": [
  {
   "cell_type": "code",
   "execution_count": 1,
   "id": "fff70d12-e4e7-4ae1-8733-ebfd5e151f37",
   "metadata": {},
   "outputs": [],
   "source": [
    "import pandas as pd\n",
    "import env\n",
    "import os\n",
    "from sklearn.model_selection import train_test_split"
   ]
  },
  {
   "cell_type": "code",
   "execution_count": 2,
   "id": "010cf6fb-811a-41d0-bf65-1f086e698edb",
   "metadata": {},
   "outputs": [],
   "source": [
    "def get_connection(db, user=env.user, host=env.host, password=env.password):\n",
    "    '''\n",
    "    Function allows user to access Codeup database using their own \n",
    "    credentials stored in  their env.py file\n",
    "    '''\n",
    "    \n",
    "# Returns with correct address/password combinat to access the database\n",
    "    return f'mysql+pymysql://{user}:{password}@{host}/{db}'"
   ]
  },
  {
   "cell_type": "code",
   "execution_count": 3,
   "id": "244b065b-07ea-4547-8f36-cc61f5f929a7",
   "metadata": {},
   "outputs": [],
   "source": [
    "def new_zillow_data():\n",
    "    '''\n",
    "    SQL query that joins three other tables to properties_2017\n",
    "    '''\n",
    "    \n",
    "    sql_query = '''\n",
    "                SELECT bedroomcnt, bathroomcnt, calculatedfinishedsquarefeet, lotsizesquarefeet, taxvaluedollarcnt, yearbuilt, fips FROM properties_2017\n",
    "                right join predictions_2017 using (parcelid)\n",
    "                join propertylandusetype using (propertylandusetypeid)\n",
    "                where propertylandusedesc = \"Single Family Residential\" OR \"Inferred Single Family Residential\"\n",
    "                '''\n",
    "    \n",
    "# Read in DataFrame from Codeup db.\n",
    "    df = pd.read_sql(sql_query, get_connection('zillow'))\n",
    "    \n",
    "# Returns the called dataframe\n",
    "    return df"
   ]
  },
  {
   "cell_type": "code",
   "execution_count": 4,
   "id": "d77fb708-e4d3-45d4-9814-12d4dac8c0dc",
   "metadata": {},
   "outputs": [],
   "source": [
    "def get_zillow_data():\n",
    "    '''\n",
    "    Function allows user to access zillow_data from Codeup database and write it\\n\n",
    "    to a csv file then returns the dataframe.\n",
    "    '''\n",
    "    \n",
    "# if statement that checks if there's already a .csv file to use \n",
    "    if os.path.isfile('zillow.csv'):\n",
    "        \n",
    "# If csv file exists read in data from csv file.\n",
    "        df = pd.read_csv('zillow.csv', index_col=0)\n",
    "        \n",
    "# Alternative if no csv file found then\n",
    "    else:\n",
    "        \n",
    "# Read fresh data from db into a DataFrame\n",
    "        df = new_zillow_data()\n",
    "        \n",
    "# Cache data for local use\n",
    "        df.to_csv('zillow.csv')\n",
    "\n",
    "# Returns requested df\n",
    "    return df"
   ]
  },
  {
   "cell_type": "code",
   "execution_count": 5,
   "id": "d6f94795-a3d9-472a-93f7-a374e05c5b7b",
   "metadata": {},
   "outputs": [],
   "source": [
    "def handle_nulls(df):\n",
    "    '''\n",
    "    Gets rid of the rows with any null values and returns a new null-free df\n",
    "    '''\n",
    "    \n",
    "# drops the rows with any null values and returns a new null-free df\n",
    "    df = df.dropna()\n",
    "    \n",
    "    \n",
    "    return df"
   ]
  },
  {
   "cell_type": "code",
   "execution_count": 6,
   "id": "3a453a6f-4baf-4b28-a3a1-6d0c3531b811",
   "metadata": {},
   "outputs": [],
   "source": [
    "def float_to_int(df):\n",
    "    '''\n",
    "    Converts our fips, bedrooms, calculatedfinishedsquarefeet, lotsizesquarefeet, taxvaluedollarcnt, and yearbuilt from floats to integers\n",
    "    '''\n",
    "# converts our fips, bedrooms, calculatedfinishedsquarefeet, taxvaluedollarcnt, and yearbuilt from floats to integers\n",
    "    df[\"fips\"] = df[\"fips\"].astype(int)\n",
    "    df[\"yearbuilt\"] = df[\"yearbuilt\"].astype(int)\n",
    "    df[\"bedroomcnt\"] = df[\"bedroomcnt\"].astype(int)\n",
    "    df[\"taxvaluedollarcnt\"] = df[\"taxvaluedollarcnt\"].astype(int)\n",
    "    df[\"calculatedfinishedsquarefeet\"] = df[\"calculatedfinishedsquarefeet\"].astype(int)\n",
    "    df[\"lotsizesquarefeet\"] = df[\"lotsizesquarefeet\"].astype(int)\n",
    "    \n",
    "    return df"
   ]
  },
  {
   "cell_type": "code",
   "execution_count": 7,
   "id": "d6b03cb2-be58-4f85-993e-cef0d65d1bf5",
   "metadata": {},
   "outputs": [],
   "source": [
    "def clean_zillow(df):\n",
    "    '''\n",
    "    Groups our functions used to clean up our data into a single function for ease of use\n",
    "    '''\n",
    "    \n",
    "    df = handle_nulls(df)\n",
    "    df = float_to_int(df)\n",
    "    df['county'] = df['fips'].astype(str)\n",
    "    df['county'] = df['county'].replace(['6037.0', '6059.0', '6111.0'], ['Los Angeles', 'Orange', 'Ventura'])\n",
    "    \n",
    "    return df"
   ]
  },
  {
   "cell_type": "code",
   "execution_count": 8,
   "id": "a38889ab-1370-4484-91ef-8e37b341fe09",
   "metadata": {},
   "outputs": [],
   "source": [
    "def split_zillow(df):\n",
    "    '''\n",
    "    Takes our df and splits it into train, validate, and test dfs for exploration, fitting, validation, and testing\n",
    "    '''\n",
    "    \n",
    "# splits the full data set 80/20 into train and test dataframes stratified \n",
    "# around taxvaluedollarcnt, the target variable, using the train_test_split function\n",
    "    train, test = train_test_split(df, \n",
    "                               train_size = 0.80, \n",
    "                               stratify = df.fips, \n",
    "                               random_state=2468)\n",
    "\n",
    "# splits the train dataframe 60/40 into the new train and validate dataframes\n",
    "# they're stratified around taxvaluedollarcnt again using the train_test_split function\n",
    "    train, validate = train_test_split(train,\n",
    "                                    train_size = 0.60,\n",
    "                                    stratify = train.fips,\n",
    "                                    random_state=2468)\n",
    "    \n",
    "# returns the three dataframes we'll use for training, validation, and testing\n",
    "    return train, validate, test"
   ]
  },
  {
   "cell_type": "code",
   "execution_count": 9,
   "id": "62bf71cc-e6ae-4810-80b8-8ad376da65a0",
   "metadata": {},
   "outputs": [],
   "source": [
    "def wrangle_zillow():\n",
    "    '''\n",
    "    Function that acquires zillow data using the new_zillow_data function and \n",
    "    caches it, as a csv file, if there isn't already a local copy\n",
    "    '''\n",
    "    df = get_zillow_data()\n",
    "    df = clean_zillow(df)\n",
    "    train, validate, test = split_zillow(df)\n",
    "    \n",
    "    return train, validate, test\n"
   ]
  },
  {
   "cell_type": "code",
   "execution_count": 10,
   "id": "a348b834-dab5-4a5b-a8c8-30b9308acba8",
   "metadata": {},
   "outputs": [],
   "source": [
    "def scale_zillow(train, validate, test,\n",
    "                 cols_to_scale = ['bedroomcnt', 'bathroomcnt', 'calculatedfinishedsquarefeet', 'lotsizesquarefeet', 'taxvaluedollarcnt']):\n",
    "    '''\n",
    "    Accepts train, validate, and test as inputs from split data then returns scaled versions for each one\n",
    "    '''\n",
    "    train_scaled = train.copy()\n",
    "    validate_scaled = validate.copy()\n",
    "    test_scaled = test.copy()\n",
    "    \n",
    "    scaler = sklearn.preprocessing.RobustScaler()\n",
    "\n",
    "    scaler.fit(train[cols_to_scale])\n",
    "    \n",
    "    train_scaled[cols_to_scale] = pd.DataFrame(scaler.transform(train[cols_to_scale]), columns=train[cols_to_scale].columns.values).set_index([train.index.values])\n",
    "                                                  \n",
    "    validate_scaled[cols_to_scale] = pd.DataFrame(scaler.transform(validate[cols_to_scale]), columns=validate[cols_to_scale].columns.values).set_index([validate.index.values])\n",
    "    \n",
    "    test_scaled[cols_to_scale] = pd.DataFrame(scaler.transform(test[cols_to_scale]), columns=test[cols_to_scale].columns.values).set_index([test.index.values])\n",
    "    \n",
    "    return train_scaled, validate_scaled, test_scaled"
   ]
  },
  {
   "cell_type": "code",
   "execution_count": null,
   "id": "e2ca7fb5-80a7-4dcd-98f5-441803d364e5",
   "metadata": {},
   "outputs": [],
   "source": []
  }
 ],
 "metadata": {
  "kernelspec": {
   "display_name": "Python 3 (ipykernel)",
   "language": "python",
   "name": "python3"
  },
  "language_info": {
   "codemirror_mode": {
    "name": "ipython",
    "version": 3
   },
   "file_extension": ".py",
   "mimetype": "text/x-python",
   "name": "python",
   "nbconvert_exporter": "python",
   "pygments_lexer": "ipython3",
   "version": "3.9.7"
  }
 },
 "nbformat": 4,
 "nbformat_minor": 5
}
