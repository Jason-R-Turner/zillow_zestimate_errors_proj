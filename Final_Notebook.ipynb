{
 "cells": [
  {
   "cell_type": "code",
   "execution_count": null,
   "id": "584ed57d-3b77-4667-8af4-24f9276ba62f",
   "metadata": {},
   "outputs": [],
   "source": []
  },
  {
   "cell_type": "markdown",
   "id": "e4190e44-894c-4ec0-a7fb-f61d21261da0",
   "metadata": {},
   "source": [
    "### Wrangle - modules used\n",
    "- Called functions from my wrangle.py module for the acquire and prepare steps\n",
    "- Used 'get_connection' function to access data from the Codeup database by using credentionals stored in my 'env.py' file with the required user, host, and password information required for verification in conjucntion with the desired database name to create a unique url.\n",
    "- Used 'new_zillow_data' function to join\n",
    "- Etc..."
   ]
  },
  {
   "cell_type": "markdown",
   "id": "72e97e9c-a4a1-4ac0-8506-e153453cf30b",
   "metadata": {},
   "source": [
    "### Wrangle - missing values addressed\n",
    "- The missing values were addressed by determing if there were any null values\n",
    "- There were "
   ]
  }
 ],
 "metadata": {
  "kernelspec": {
   "display_name": "Python 3 (ipykernel)",
   "language": "python",
   "name": "python3"
  },
  "language_info": {
   "codemirror_mode": {
    "name": "ipython",
    "version": 3
   },
   "file_extension": ".py",
   "mimetype": "text/x-python",
   "name": "python",
   "nbconvert_exporter": "python",
   "pygments_lexer": "ipython3",
   "version": "3.9.7"
  }
 },
 "nbformat": 4,
 "nbformat_minor": 5
}
