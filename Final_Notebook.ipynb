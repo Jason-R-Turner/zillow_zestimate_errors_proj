{
 "cells": [
  {
   "cell_type": "markdown",
   "id": "aad36182-937d-45f7-819c-1a8b928daa78",
   "metadata": {},
   "source": [
    "![Zestimate](https://www.roundtablerealty.com/uploads/agent-1/699119.png)"
   ]
  },
  {
   "cell_type": "markdown",
   "id": "b4e3a6e8-5175-4fc9-af29-fdbf3899959d",
   "metadata": {},
   "source": [
    "# What is driving the errors in Zillow's Zestimates?\n",
    "##### By: Jason R. Turner\n",
    "##### For: *Zillow* Data Science Team\n",
    "##### Date: June 20, 2022"
   ]
  },
  {
   "cell_type": "code",
   "execution_count": 1,
   "id": "cfc7ea33-832b-4e34-97cf-226562924103",
   "metadata": {
    "tags": []
   },
   "outputs": [],
   "source": [
    "# turn off pink warning boxes\n",
    "import warnings\n",
    "warnings.filterwarnings(\"ignore\")\n",
    "\n",
    "# import libraries\n",
    "import pandas as pd\n",
    "import matplotlib.pyplot as plt\n",
    "import seaborn as sns\n",
    "import numpy as np\n",
    "from scipy import stats\n",
    "from math import sqrt\n",
    "import os\n",
    "\n",
    "from matplotlib import cm\n",
    "from sklearn.model_selection import learning_curve\n",
    "from sklearn.preprocessing import RobustScaler\n",
    "from sklearn.preprocessing import OneHotEncoder\n",
    "from sklearn.feature_selection import SelectKBest, f_regression\n",
    "from sklearn.linear_model import LinearRegression\n",
    "from sklearn.feature_selection import RFE\n",
    "from sklearn.metrics import mean_squared_error\n",
    "from sklearn.cluster import KMeans\n",
    "\n",
    "# wrangle and utility\n",
    "import wrangle\n",
    "import env\n",
    "import util"
   ]
  },
  {
   "cell_type": "markdown",
   "id": "dcced7b6-819f-4d7a-8796-a8fe29144174",
   "metadata": {},
   "source": [
    "<hr style=\"border-top: 12px groove royalblue; margin-top: 1px; margin-bottom: 1px\"></hr>"
   ]
  },
  {
   "cell_type": "markdown",
   "id": "e657adc0-ab05-435f-91b0-ad4e3de24378",
   "metadata": {},
   "source": [
    "## Project Goals\n",
    "- To analyze the Zillow data set to see what's causing the difference between the predicted and actual sales price represented by logerror.\n",
    "- Use machine learning models to help discover the best candidates for accounting for these differences in prediction\n",
    "- Clearly explain the process and reasoning behind the steps taken to arrive at our conclusion"
   ]
  },
  {
   "cell_type": "markdown",
   "id": "3c6e3bfb-0daa-45c2-95e9-3f308367e936",
   "metadata": {
    "tags": []
   },
   "source": [
    "<hr style=\"border-top: 12px groove yellowgreen; margin-top: 1px; margin-bottom: 1px\"></hr>"
   ]
  },
  {
   "cell_type": "markdown",
   "id": "171c739a-1c80-4ec8-b717-4df6f308abed",
   "metadata": {},
   "source": [
    "### - Project Objectives\n",
    "> - Document code, process (data acquistion, preparation, exploratory data analysis and statistical testing, modeling, and model evaluation), findings, and key takeaways in a Jupyter Notebook report.\n",
    "> - Create a module (wrangle.py) that make your process repeateable.\n",
    "> - Construct a model to determine sources of estimate error using clustering techniques.\n",
    "> - Deliver a 5 minute presentation consisting of a high-level notebook walkthrough using your Jupyter Notebook from above; your presentation should be appropriate for your target audience.\n",
    "> - Answer panel questions about your code, process, findings and key takeaways, and model."
   ]
  },
  {
   "cell_type": "markdown",
   "id": "8ccce2ff-3bf8-441f-a138-f18e19945ab5",
   "metadata": {},
   "source": [
    "### - Business Goals\n",
    "- To construct a ML clustering model that allows us to determine the drivers of error for Zillow Zestimates using 'logerror'.\n",
    "- Document and present it a way that is clear and understandable\n",
    "\n",
    "- Find the key sources of error for estimating the value of single family properties. Some questions that come to mind are:\n",
    "\n",
    "\n",
    "- Deliver a report that the data science team can read through and replicate, understand what steps were taken, why and what the outcome was.\n",
    "\n",
    "- Make recommendations on what works or doesn't work in prediction these homes' values.\n"
   ]
  },
  {
   "cell_type": "markdown",
   "id": "b62fc226-85bb-49fe-9ae6-b63c5369a5a9",
   "metadata": {},
   "source": [
    "### <font color='darkblue'>- Executive Summary</font>\n",
    "- My initial ideas on what factors contributed to the discrepancy shown by log error did not pan out \n",
    "- I was able to figure out some of the features that do not have strong enough relationships to the Zestimate log error\n",
    "- I can eliminate these as primary candidates for satisfactorily explaining the difference between predicted and actual home sale values.\n",
    "- I theorize that we can get much stronger relationships by focusing on geographic data by breaking it down to be more granular to the neighborhood level to reflect local home values that both sellers and buyers use to determine what they'll list and pay for homes\n",
    "- Future inquiries could try incorporating external data that could explain trends like recent changes in tax rates, changes in the local job market, or the health of the economy at large"
   ]
  },
  {
   "cell_type": "code",
   "execution_count": null,
   "id": "b3cc6bdf-c1db-4666-8056-8a5c159f5010",
   "metadata": {},
   "outputs": [],
   "source": []
  },
  {
   "cell_type": "markdown",
   "id": "e4190e44-894c-4ec0-a7fb-f61d21261da0",
   "metadata": {
    "tags": []
   },
   "source": [
    "#### Wrangle - acquire modules\n",
    "- Called functions from my `wrangle.py` module for the acquire and prepare steps\n",
    "- Used `get_connection` function to access data from the Codeup database by using credentials stored in my `env.py` file with the required user, host, and password information required for verification in conjucntion with the desired database name to create a unique url.\n",
    "- Used `new_zillow_data` function to join the necessary tables to the 'properties_2017' table\n",
    "- Used `get_zillow_data` to check if there's a locally cached .csv file and if not, to go fetch one from the database"
   ]
  },
  {
   "cell_type": "code",
   "execution_count": 2,
   "id": "83e33f9f-bca8-4c1b-af6f-9425e06b15ab",
   "metadata": {
    "tags": []
   },
   "outputs": [],
   "source": [
    "# acquires data from SQL database if it's not already locally saved as a .csv \n",
    "# file and combines requested tables into a dataframe using wrangle module\n",
    "z_df = wrangle.get_zillow_data()"
   ]
  },
  {
   "cell_type": "markdown",
   "id": "72e97e9c-a4a1-4ac0-8506-e153453cf30b",
   "metadata": {},
   "source": [
    "#### Wrangle - prepare modules\n",
    "- Dropped duplicate values keeping the most recent entry by sorting dataframe by 'transactiondate' and keep the last value using `drop_duplicates` function\n",
    "- The missing values were addressed by determing how many null values there were\n",
    "    - checked for nulls using `summarize` function from util.py file\n",
    "- Any columns with more than 2% nulls were dropped using `percentage_dropper` from wrangle.py\n",
    "- Checked to see what percentage of the data would remain after dropping all remaining rows with nulls, which was an acceptable 97%, and chose to drop them using `clean_zillow`, which also drops unneeded columns, converts some qualifying floats to integers, and date into datetime format\n",
    "- Last we checked for any outliers using the `add_upper_outlier_columns` function to add columns for outliers above 1.5 times the interquartile range, which would keep 82% of the dataframe rows if removed, which I deemed acceptable\n",
    "- Removed all rows containing outliers then removed the added columns for the outlier values"
   ]
  },
  {
   "cell_type": "code",
   "execution_count": 3,
   "id": "ee4d3431-24c6-480e-ae8a-238940cdfb4d",
   "metadata": {
    "tags": []
   },
   "outputs": [],
   "source": [
    "# sorted dataframe by transaction date\n",
    "z_df = z_df.sort_values(by='transactiondate')\n",
    "\n",
    "# drops all but the last duplicate row by parcelid\n",
    "z_df = z_df.drop_duplicates(subset=['parcelid'], keep='last')"
   ]
  },
  {
   "cell_type": "code",
   "execution_count": 4,
   "id": "34439245-bf24-46de-a0ad-3cbe62990559",
   "metadata": {},
   "outputs": [
    {
     "name": "stdout",
     "output_type": "stream",
     "text": [
      "There are 52320 rows and 63 columns in this dataframe.\n",
      "Plus the following nulls:\n",
      "propertylandusetypeid        0\n",
      "parcelid                     0\n",
      "id                           0\n",
      "logerror                     0\n",
      "transactiondate              0\n",
      "                         ...  \n",
      "taxamount                    4\n",
      "taxdelinquencyflag       50252\n",
      "taxdelinquencyyear       50252\n",
      "censustractandblock        121\n",
      "propertylandusedesc          0\n",
      "Length: 63, dtype: int64\n"
     ]
    },
    {
     "data": {
      "text/html": [
       "<div>\n",
       "<style scoped>\n",
       "    .dataframe tbody tr th:only-of-type {\n",
       "        vertical-align: middle;\n",
       "    }\n",
       "\n",
       "    .dataframe tbody tr th {\n",
       "        vertical-align: top;\n",
       "    }\n",
       "\n",
       "    .dataframe thead th {\n",
       "        text-align: right;\n",
       "    }\n",
       "</style>\n",
       "<table border=\"1\" class=\"dataframe\">\n",
       "  <thead>\n",
       "    <tr style=\"text-align: right;\">\n",
       "      <th></th>\n",
       "      <th>count</th>\n",
       "      <th>mean</th>\n",
       "      <th>std</th>\n",
       "      <th>min</th>\n",
       "      <th>25%</th>\n",
       "      <th>50%</th>\n",
       "      <th>75%</th>\n",
       "      <th>max</th>\n",
       "    </tr>\n",
       "  </thead>\n",
       "  <tbody>\n",
       "    <tr>\n",
       "      <th>propertylandusetypeid</th>\n",
       "      <td>52320.0</td>\n",
       "      <td>2.610000e+02</td>\n",
       "      <td>0.000000e+00</td>\n",
       "      <td>2.610000e+02</td>\n",
       "      <td>2.610000e+02</td>\n",
       "      <td>2.610000e+02</td>\n",
       "      <td>2.610000e+02</td>\n",
       "      <td>2.610000e+02</td>\n",
       "    </tr>\n",
       "    <tr>\n",
       "      <th>parcelid</th>\n",
       "      <td>52320.0</td>\n",
       "      <td>1.299682e+07</td>\n",
       "      <td>3.350919e+06</td>\n",
       "      <td>1.071186e+07</td>\n",
       "      <td>1.151018e+07</td>\n",
       "      <td>1.257829e+07</td>\n",
       "      <td>1.413036e+07</td>\n",
       "      <td>1.676878e+08</td>\n",
       "    </tr>\n",
       "    <tr>\n",
       "      <th>id</th>\n",
       "      <td>52320.0</td>\n",
       "      <td>3.890428e+04</td>\n",
       "      <td>2.234519e+04</td>\n",
       "      <td>0.000000e+00</td>\n",
       "      <td>1.961425e+04</td>\n",
       "      <td>3.898450e+04</td>\n",
       "      <td>5.814150e+04</td>\n",
       "      <td>7.761300e+04</td>\n",
       "    </tr>\n",
       "    <tr>\n",
       "      <th>logerror</th>\n",
       "      <td>52320.0</td>\n",
       "      <td>1.813138e-02</td>\n",
       "      <td>1.769047e-01</td>\n",
       "      <td>-4.655420e+00</td>\n",
       "      <td>-2.470687e-02</td>\n",
       "      <td>6.934429e-03</td>\n",
       "      <td>4.059704e-02</td>\n",
       "      <td>5.262999e+00</td>\n",
       "    </tr>\n",
       "    <tr>\n",
       "      <th>id.1</th>\n",
       "      <td>52320.0</td>\n",
       "      <td>1.496906e+06</td>\n",
       "      <td>8.594330e+05</td>\n",
       "      <td>3.490000e+02</td>\n",
       "      <td>7.576135e+05</td>\n",
       "      <td>1.500134e+06</td>\n",
       "      <td>2.241333e+06</td>\n",
       "      <td>2.982270e+06</td>\n",
       "    </tr>\n",
       "    <tr>\n",
       "      <th>airconditioningtypeid</th>\n",
       "      <td>13615.0</td>\n",
       "      <td>2.439589e+00</td>\n",
       "      <td>3.847925e+00</td>\n",
       "      <td>1.000000e+00</td>\n",
       "      <td>1.000000e+00</td>\n",
       "      <td>1.000000e+00</td>\n",
       "      <td>1.000000e+00</td>\n",
       "      <td>1.300000e+01</td>\n",
       "    </tr>\n",
       "    <tr>\n",
       "      <th>architecturalstyletypeid</th>\n",
       "      <td>70.0</td>\n",
       "      <td>7.100000e+00</td>\n",
       "      <td>2.665670e+00</td>\n",
       "      <td>2.000000e+00</td>\n",
       "      <td>7.000000e+00</td>\n",
       "      <td>7.000000e+00</td>\n",
       "      <td>7.000000e+00</td>\n",
       "      <td>2.100000e+01</td>\n",
       "    </tr>\n",
       "    <tr>\n",
       "      <th>basementsqft</th>\n",
       "      <td>47.0</td>\n",
       "      <td>6.789787e+02</td>\n",
       "      <td>7.118252e+02</td>\n",
       "      <td>3.800000e+01</td>\n",
       "      <td>2.635000e+02</td>\n",
       "      <td>5.120000e+02</td>\n",
       "      <td>8.095000e+02</td>\n",
       "      <td>3.560000e+03</td>\n",
       "    </tr>\n",
       "    <tr>\n",
       "      <th>bathroomcnt</th>\n",
       "      <td>52320.0</td>\n",
       "      <td>2.300010e+00</td>\n",
       "      <td>1.022807e+00</td>\n",
       "      <td>0.000000e+00</td>\n",
       "      <td>2.000000e+00</td>\n",
       "      <td>2.000000e+00</td>\n",
       "      <td>3.000000e+00</td>\n",
       "      <td>1.800000e+01</td>\n",
       "    </tr>\n",
       "    <tr>\n",
       "      <th>bedroomcnt</th>\n",
       "      <td>52320.0</td>\n",
       "      <td>3.300765e+00</td>\n",
       "      <td>9.475551e-01</td>\n",
       "      <td>0.000000e+00</td>\n",
       "      <td>3.000000e+00</td>\n",
       "      <td>3.000000e+00</td>\n",
       "      <td>4.000000e+00</td>\n",
       "      <td>1.400000e+01</td>\n",
       "    </tr>\n",
       "    <tr>\n",
       "      <th>buildingclasstypeid</th>\n",
       "      <td>0.0</td>\n",
       "      <td>NaN</td>\n",
       "      <td>NaN</td>\n",
       "      <td>NaN</td>\n",
       "      <td>NaN</td>\n",
       "      <td>NaN</td>\n",
       "      <td>NaN</td>\n",
       "      <td>NaN</td>\n",
       "    </tr>\n",
       "    <tr>\n",
       "      <th>buildingqualitytypeid</th>\n",
       "      <td>33655.0</td>\n",
       "      <td>6.264894e+00</td>\n",
       "      <td>1.716346e+00</td>\n",
       "      <td>1.000000e+00</td>\n",
       "      <td>5.000000e+00</td>\n",
       "      <td>6.000000e+00</td>\n",
       "      <td>8.000000e+00</td>\n",
       "      <td>1.200000e+01</td>\n",
       "    </tr>\n",
       "    <tr>\n",
       "      <th>calculatedbathnbr</th>\n",
       "      <td>52185.0</td>\n",
       "      <td>2.305270e+00</td>\n",
       "      <td>1.018067e+00</td>\n",
       "      <td>1.000000e+00</td>\n",
       "      <td>2.000000e+00</td>\n",
       "      <td>2.000000e+00</td>\n",
       "      <td>3.000000e+00</td>\n",
       "      <td>1.800000e+01</td>\n",
       "    </tr>\n",
       "    <tr>\n",
       "      <th>decktypeid</th>\n",
       "      <td>389.0</td>\n",
       "      <td>6.600000e+01</td>\n",
       "      <td>0.000000e+00</td>\n",
       "      <td>6.600000e+01</td>\n",
       "      <td>6.600000e+01</td>\n",
       "      <td>6.600000e+01</td>\n",
       "      <td>6.600000e+01</td>\n",
       "      <td>6.600000e+01</td>\n",
       "    </tr>\n",
       "    <tr>\n",
       "      <th>finishedfloor1squarefeet</th>\n",
       "      <td>4371.0</td>\n",
       "      <td>1.546288e+03</td>\n",
       "      <td>6.753393e+02</td>\n",
       "      <td>1.840000e+02</td>\n",
       "      <td>1.151000e+03</td>\n",
       "      <td>1.410000e+03</td>\n",
       "      <td>1.760000e+03</td>\n",
       "      <td>6.912000e+03</td>\n",
       "    </tr>\n",
       "    <tr>\n",
       "      <th>calculatedfinishedsquarefeet</th>\n",
       "      <td>52239.0</td>\n",
       "      <td>1.923153e+03</td>\n",
       "      <td>1.004045e+03</td>\n",
       "      <td>1.280000e+02</td>\n",
       "      <td>1.268000e+03</td>\n",
       "      <td>1.659000e+03</td>\n",
       "      <td>2.306000e+03</td>\n",
       "      <td>2.192900e+04</td>\n",
       "    </tr>\n",
       "    <tr>\n",
       "      <th>finishedsquarefeet12</th>\n",
       "      <td>52074.0</td>\n",
       "      <td>1.925314e+03</td>\n",
       "      <td>1.003953e+03</td>\n",
       "      <td>1.280000e+02</td>\n",
       "      <td>1.270000e+03</td>\n",
       "      <td>1.661000e+03</td>\n",
       "      <td>2.309000e+03</td>\n",
       "      <td>2.192900e+04</td>\n",
       "    </tr>\n",
       "    <tr>\n",
       "      <th>finishedsquarefeet13</th>\n",
       "      <td>0.0</td>\n",
       "      <td>NaN</td>\n",
       "      <td>NaN</td>\n",
       "      <td>NaN</td>\n",
       "      <td>NaN</td>\n",
       "      <td>NaN</td>\n",
       "      <td>NaN</td>\n",
       "      <td>NaN</td>\n",
       "    </tr>\n",
       "    <tr>\n",
       "      <th>finishedsquarefeet15</th>\n",
       "      <td>0.0</td>\n",
       "      <td>NaN</td>\n",
       "      <td>NaN</td>\n",
       "      <td>NaN</td>\n",
       "      <td>NaN</td>\n",
       "      <td>NaN</td>\n",
       "      <td>NaN</td>\n",
       "      <td>NaN</td>\n",
       "    </tr>\n",
       "    <tr>\n",
       "      <th>finishedsquarefeet50</th>\n",
       "      <td>4371.0</td>\n",
       "      <td>1.567099e+03</td>\n",
       "      <td>7.450848e+02</td>\n",
       "      <td>1.840000e+02</td>\n",
       "      <td>1.152000e+03</td>\n",
       "      <td>1.415000e+03</td>\n",
       "      <td>1.771000e+03</td>\n",
       "      <td>1.246700e+04</td>\n",
       "    </tr>\n",
       "    <tr>\n",
       "      <th>finishedsquarefeet6</th>\n",
       "      <td>165.0</td>\n",
       "      <td>1.241079e+03</td>\n",
       "      <td>7.769591e+02</td>\n",
       "      <td>3.800000e+02</td>\n",
       "      <td>7.840000e+02</td>\n",
       "      <td>1.008000e+03</td>\n",
       "      <td>1.320000e+03</td>\n",
       "      <td>5.598000e+03</td>\n",
       "    </tr>\n",
       "    <tr>\n",
       "      <th>fips</th>\n",
       "      <td>52320.0</td>\n",
       "      <td>6.049136e+03</td>\n",
       "      <td>2.102913e+01</td>\n",
       "      <td>6.037000e+03</td>\n",
       "      <td>6.037000e+03</td>\n",
       "      <td>6.037000e+03</td>\n",
       "      <td>6.059000e+03</td>\n",
       "      <td>6.111000e+03</td>\n",
       "    </tr>\n",
       "    <tr>\n",
       "      <th>fireplacecnt</th>\n",
       "      <td>7233.0</td>\n",
       "      <td>1.209733e+00</td>\n",
       "      <td>5.129456e-01</td>\n",
       "      <td>1.000000e+00</td>\n",
       "      <td>1.000000e+00</td>\n",
       "      <td>1.000000e+00</td>\n",
       "      <td>1.000000e+00</td>\n",
       "      <td>5.000000e+00</td>\n",
       "    </tr>\n",
       "    <tr>\n",
       "      <th>fullbathcnt</th>\n",
       "      <td>52185.0</td>\n",
       "      <td>2.240031e+00</td>\n",
       "      <td>9.933029e-01</td>\n",
       "      <td>1.000000e+00</td>\n",
       "      <td>2.000000e+00</td>\n",
       "      <td>2.000000e+00</td>\n",
       "      <td>3.000000e+00</td>\n",
       "      <td>1.800000e+01</td>\n",
       "    </tr>\n",
       "    <tr>\n",
       "      <th>garagecarcnt</th>\n",
       "      <td>17984.0</td>\n",
       "      <td>1.949066e+00</td>\n",
       "      <td>5.499741e-01</td>\n",
       "      <td>0.000000e+00</td>\n",
       "      <td>2.000000e+00</td>\n",
       "      <td>2.000000e+00</td>\n",
       "      <td>2.000000e+00</td>\n",
       "      <td>1.400000e+01</td>\n",
       "    </tr>\n",
       "    <tr>\n",
       "      <th>garagetotalsqft</th>\n",
       "      <td>17984.0</td>\n",
       "      <td>4.959270e+02</td>\n",
       "      <td>1.571009e+02</td>\n",
       "      <td>0.000000e+00</td>\n",
       "      <td>4.260000e+02</td>\n",
       "      <td>4.620000e+02</td>\n",
       "      <td>5.670000e+02</td>\n",
       "      <td>4.251000e+03</td>\n",
       "    </tr>\n",
       "    <tr>\n",
       "      <th>hashottuborspa</th>\n",
       "      <td>1514.0</td>\n",
       "      <td>1.000000e+00</td>\n",
       "      <td>0.000000e+00</td>\n",
       "      <td>1.000000e+00</td>\n",
       "      <td>1.000000e+00</td>\n",
       "      <td>1.000000e+00</td>\n",
       "      <td>1.000000e+00</td>\n",
       "      <td>1.000000e+00</td>\n",
       "    </tr>\n",
       "    <tr>\n",
       "      <th>heatingorsystemtypeid</th>\n",
       "      <td>33850.0</td>\n",
       "      <td>3.965613e+00</td>\n",
       "      <td>2.562660e+00</td>\n",
       "      <td>1.000000e+00</td>\n",
       "      <td>2.000000e+00</td>\n",
       "      <td>2.000000e+00</td>\n",
       "      <td>7.000000e+00</td>\n",
       "      <td>2.400000e+01</td>\n",
       "    </tr>\n",
       "    <tr>\n",
       "      <th>latitude</th>\n",
       "      <td>52320.0</td>\n",
       "      <td>3.402256e+07</td>\n",
       "      <td>2.740624e+05</td>\n",
       "      <td>3.334062e+07</td>\n",
       "      <td>3.382690e+07</td>\n",
       "      <td>3.402375e+07</td>\n",
       "      <td>3.418725e+07</td>\n",
       "      <td>3.481877e+07</td>\n",
       "    </tr>\n",
       "    <tr>\n",
       "      <th>longitude</th>\n",
       "      <td>52320.0</td>\n",
       "      <td>-1.181941e+08</td>\n",
       "      <td>3.567149e+05</td>\n",
       "      <td>-1.194754e+08</td>\n",
       "      <td>-1.184009e+08</td>\n",
       "      <td>-1.181531e+08</td>\n",
       "      <td>-1.179290e+08</td>\n",
       "      <td>-1.175546e+08</td>\n",
       "    </tr>\n",
       "    <tr>\n",
       "      <th>lotsizesquarefeet</th>\n",
       "      <td>51954.0</td>\n",
       "      <td>1.132335e+04</td>\n",
       "      <td>8.674164e+04</td>\n",
       "      <td>2.360000e+02</td>\n",
       "      <td>5.583000e+03</td>\n",
       "      <td>6.841000e+03</td>\n",
       "      <td>8.799000e+03</td>\n",
       "      <td>6.971010e+06</td>\n",
       "    </tr>\n",
       "    <tr>\n",
       "      <th>poolcnt</th>\n",
       "      <td>11077.0</td>\n",
       "      <td>1.000000e+00</td>\n",
       "      <td>0.000000e+00</td>\n",
       "      <td>1.000000e+00</td>\n",
       "      <td>1.000000e+00</td>\n",
       "      <td>1.000000e+00</td>\n",
       "      <td>1.000000e+00</td>\n",
       "      <td>1.000000e+00</td>\n",
       "    </tr>\n",
       "    <tr>\n",
       "      <th>poolsizesum</th>\n",
       "      <td>865.0</td>\n",
       "      <td>5.183052e+02</td>\n",
       "      <td>1.566148e+02</td>\n",
       "      <td>2.400000e+01</td>\n",
       "      <td>4.240000e+02</td>\n",
       "      <td>5.000000e+02</td>\n",
       "      <td>6.000000e+02</td>\n",
       "      <td>1.500000e+03</td>\n",
       "    </tr>\n",
       "    <tr>\n",
       "      <th>pooltypeid10</th>\n",
       "      <td>443.0</td>\n",
       "      <td>1.000000e+00</td>\n",
       "      <td>0.000000e+00</td>\n",
       "      <td>1.000000e+00</td>\n",
       "      <td>1.000000e+00</td>\n",
       "      <td>1.000000e+00</td>\n",
       "      <td>1.000000e+00</td>\n",
       "      <td>1.000000e+00</td>\n",
       "    </tr>\n",
       "    <tr>\n",
       "      <th>pooltypeid2</th>\n",
       "      <td>1071.0</td>\n",
       "      <td>1.000000e+00</td>\n",
       "      <td>0.000000e+00</td>\n",
       "      <td>1.000000e+00</td>\n",
       "      <td>1.000000e+00</td>\n",
       "      <td>1.000000e+00</td>\n",
       "      <td>1.000000e+00</td>\n",
       "      <td>1.000000e+00</td>\n",
       "    </tr>\n",
       "    <tr>\n",
       "      <th>pooltypeid7</th>\n",
       "      <td>9990.0</td>\n",
       "      <td>1.000000e+00</td>\n",
       "      <td>0.000000e+00</td>\n",
       "      <td>1.000000e+00</td>\n",
       "      <td>1.000000e+00</td>\n",
       "      <td>1.000000e+00</td>\n",
       "      <td>1.000000e+00</td>\n",
       "      <td>1.000000e+00</td>\n",
       "    </tr>\n",
       "    <tr>\n",
       "      <th>rawcensustractandblock</th>\n",
       "      <td>52320.0</td>\n",
       "      <td>6.049447e+07</td>\n",
       "      <td>2.086892e+05</td>\n",
       "      <td>6.037101e+07</td>\n",
       "      <td>6.037401e+07</td>\n",
       "      <td>6.037620e+07</td>\n",
       "      <td>6.059042e+07</td>\n",
       "      <td>6.111009e+07</td>\n",
       "    </tr>\n",
       "    <tr>\n",
       "      <th>regionidcity</th>\n",
       "      <td>51284.0</td>\n",
       "      <td>3.348383e+04</td>\n",
       "      <td>4.911615e+04</td>\n",
       "      <td>3.491000e+03</td>\n",
       "      <td>1.244700e+04</td>\n",
       "      <td>2.481200e+04</td>\n",
       "      <td>4.022700e+04</td>\n",
       "      <td>3.965560e+05</td>\n",
       "    </tr>\n",
       "    <tr>\n",
       "      <th>regionidcounty</th>\n",
       "      <td>52320.0</td>\n",
       "      <td>2.524321e+03</td>\n",
       "      <td>8.040986e+02</td>\n",
       "      <td>1.286000e+03</td>\n",
       "      <td>1.286000e+03</td>\n",
       "      <td>3.101000e+03</td>\n",
       "      <td>3.101000e+03</td>\n",
       "      <td>3.101000e+03</td>\n",
       "    </tr>\n",
       "    <tr>\n",
       "      <th>regionidneighborhood</th>\n",
       "      <td>18981.0</td>\n",
       "      <td>1.802406e+05</td>\n",
       "      <td>1.599288e+05</td>\n",
       "      <td>6.952000e+03</td>\n",
       "      <td>4.113100e+04</td>\n",
       "      <td>1.182080e+05</td>\n",
       "      <td>2.745140e+05</td>\n",
       "      <td>7.641670e+05</td>\n",
       "    </tr>\n",
       "    <tr>\n",
       "      <th>regionidzip</th>\n",
       "      <td>52294.0</td>\n",
       "      <td>9.663624e+04</td>\n",
       "      <td>4.610382e+03</td>\n",
       "      <td>9.598200e+04</td>\n",
       "      <td>9.620600e+04</td>\n",
       "      <td>9.641200e+04</td>\n",
       "      <td>9.699500e+04</td>\n",
       "      <td>3.996750e+05</td>\n",
       "    </tr>\n",
       "    <tr>\n",
       "      <th>roomcnt</th>\n",
       "      <td>52320.0</td>\n",
       "      <td>1.894457e+00</td>\n",
       "      <td>3.146952e+00</td>\n",
       "      <td>0.000000e+00</td>\n",
       "      <td>0.000000e+00</td>\n",
       "      <td>0.000000e+00</td>\n",
       "      <td>5.000000e+00</td>\n",
       "      <td>1.500000e+01</td>\n",
       "    </tr>\n",
       "    <tr>\n",
       "      <th>storytypeid</th>\n",
       "      <td>47.0</td>\n",
       "      <td>7.000000e+00</td>\n",
       "      <td>0.000000e+00</td>\n",
       "      <td>7.000000e+00</td>\n",
       "      <td>7.000000e+00</td>\n",
       "      <td>7.000000e+00</td>\n",
       "      <td>7.000000e+00</td>\n",
       "      <td>7.000000e+00</td>\n",
       "    </tr>\n",
       "    <tr>\n",
       "      <th>threequarterbathnbr</th>\n",
       "      <td>6717.0</td>\n",
       "      <td>1.013697e+00</td>\n",
       "      <td>1.426896e-01</td>\n",
       "      <td>1.000000e+00</td>\n",
       "      <td>1.000000e+00</td>\n",
       "      <td>1.000000e+00</td>\n",
       "      <td>1.000000e+00</td>\n",
       "      <td>7.000000e+00</td>\n",
       "    </tr>\n",
       "    <tr>\n",
       "      <th>typeconstructiontypeid</th>\n",
       "      <td>76.0</td>\n",
       "      <td>5.973684e+00</td>\n",
       "      <td>2.294157e-01</td>\n",
       "      <td>4.000000e+00</td>\n",
       "      <td>6.000000e+00</td>\n",
       "      <td>6.000000e+00</td>\n",
       "      <td>6.000000e+00</td>\n",
       "      <td>6.000000e+00</td>\n",
       "    </tr>\n",
       "    <tr>\n",
       "      <th>unitcnt</th>\n",
       "      <td>33762.0</td>\n",
       "      <td>1.000859e+00</td>\n",
       "      <td>3.028996e-02</td>\n",
       "      <td>1.000000e+00</td>\n",
       "      <td>1.000000e+00</td>\n",
       "      <td>1.000000e+00</td>\n",
       "      <td>1.000000e+00</td>\n",
       "      <td>3.000000e+00</td>\n",
       "    </tr>\n",
       "    <tr>\n",
       "      <th>yardbuildingsqft17</th>\n",
       "      <td>1935.0</td>\n",
       "      <td>3.373597e+02</td>\n",
       "      <td>2.495793e+02</td>\n",
       "      <td>1.100000e+01</td>\n",
       "      <td>2.000000e+02</td>\n",
       "      <td>2.800000e+02</td>\n",
       "      <td>4.000000e+02</td>\n",
       "      <td>3.191000e+03</td>\n",
       "    </tr>\n",
       "    <tr>\n",
       "      <th>yardbuildingsqft26</th>\n",
       "      <td>63.0</td>\n",
       "      <td>2.256190e+02</td>\n",
       "      <td>1.885051e+02</td>\n",
       "      <td>1.200000e+01</td>\n",
       "      <td>7.150000e+01</td>\n",
       "      <td>1.800000e+02</td>\n",
       "      <td>3.170000e+02</td>\n",
       "      <td>8.680000e+02</td>\n",
       "    </tr>\n",
       "    <tr>\n",
       "      <th>yearbuilt</th>\n",
       "      <td>52206.0</td>\n",
       "      <td>1.963421e+03</td>\n",
       "      <td>2.312567e+01</td>\n",
       "      <td>1.878000e+03</td>\n",
       "      <td>1.950000e+03</td>\n",
       "      <td>1.961000e+03</td>\n",
       "      <td>1.979000e+03</td>\n",
       "      <td>2.016000e+03</td>\n",
       "    </tr>\n",
       "    <tr>\n",
       "      <th>numberofstories</th>\n",
       "      <td>14532.0</td>\n",
       "      <td>1.414189e+00</td>\n",
       "      <td>5.406849e-01</td>\n",
       "      <td>1.000000e+00</td>\n",
       "      <td>1.000000e+00</td>\n",
       "      <td>1.000000e+00</td>\n",
       "      <td>2.000000e+00</td>\n",
       "      <td>6.000000e+00</td>\n",
       "    </tr>\n",
       "    <tr>\n",
       "      <th>fireplaceflag</th>\n",
       "      <td>81.0</td>\n",
       "      <td>1.000000e+00</td>\n",
       "      <td>0.000000e+00</td>\n",
       "      <td>1.000000e+00</td>\n",
       "      <td>1.000000e+00</td>\n",
       "      <td>1.000000e+00</td>\n",
       "      <td>1.000000e+00</td>\n",
       "      <td>1.000000e+00</td>\n",
       "    </tr>\n",
       "    <tr>\n",
       "      <th>structuretaxvaluedollarcnt</th>\n",
       "      <td>52238.0</td>\n",
       "      <td>1.966362e+05</td>\n",
       "      <td>2.542862e+05</td>\n",
       "      <td>1.290000e+02</td>\n",
       "      <td>7.715900e+04</td>\n",
       "      <td>1.319050e+05</td>\n",
       "      <td>2.264532e+05</td>\n",
       "      <td>9.164901e+06</td>\n",
       "    </tr>\n",
       "    <tr>\n",
       "      <th>taxvaluedollarcnt</th>\n",
       "      <td>52319.0</td>\n",
       "      <td>5.298235e+05</td>\n",
       "      <td>7.518296e+05</td>\n",
       "      <td>1.000000e+03</td>\n",
       "      <td>1.940330e+05</td>\n",
       "      <td>3.740060e+05</td>\n",
       "      <td>6.193540e+05</td>\n",
       "      <td>4.906124e+07</td>\n",
       "    </tr>\n",
       "    <tr>\n",
       "      <th>assessmentyear</th>\n",
       "      <td>52320.0</td>\n",
       "      <td>2.016000e+03</td>\n",
       "      <td>0.000000e+00</td>\n",
       "      <td>2.016000e+03</td>\n",
       "      <td>2.016000e+03</td>\n",
       "      <td>2.016000e+03</td>\n",
       "      <td>2.016000e+03</td>\n",
       "      <td>2.016000e+03</td>\n",
       "    </tr>\n",
       "    <tr>\n",
       "      <th>landtaxvaluedollarcnt</th>\n",
       "      <td>52319.0</td>\n",
       "      <td>3.334917e+05</td>\n",
       "      <td>5.705106e+05</td>\n",
       "      <td>1.610000e+02</td>\n",
       "      <td>7.619400e+04</td>\n",
       "      <td>2.180790e+05</td>\n",
       "      <td>4.087770e+05</td>\n",
       "      <td>4.895220e+07</td>\n",
       "    </tr>\n",
       "    <tr>\n",
       "      <th>taxamount</th>\n",
       "      <td>52316.0</td>\n",
       "      <td>6.454743e+03</td>\n",
       "      <td>8.752477e+03</td>\n",
       "      <td>4.918000e+01</td>\n",
       "      <td>2.660983e+03</td>\n",
       "      <td>4.650565e+03</td>\n",
       "      <td>7.379270e+03</td>\n",
       "      <td>5.866393e+05</td>\n",
       "    </tr>\n",
       "    <tr>\n",
       "      <th>taxdelinquencyyear</th>\n",
       "      <td>2068.0</td>\n",
       "      <td>1.410106e+01</td>\n",
       "      <td>2.400399e+00</td>\n",
       "      <td>4.000000e+00</td>\n",
       "      <td>1.400000e+01</td>\n",
       "      <td>1.500000e+01</td>\n",
       "      <td>1.500000e+01</td>\n",
       "      <td>9.900000e+01</td>\n",
       "    </tr>\n",
       "    <tr>\n",
       "      <th>censustractandblock</th>\n",
       "      <td>52199.0</td>\n",
       "      <td>6.050245e+13</td>\n",
       "      <td>1.861127e+12</td>\n",
       "      <td>6.037101e+13</td>\n",
       "      <td>6.037401e+13</td>\n",
       "      <td>6.037620e+13</td>\n",
       "      <td>6.059042e+13</td>\n",
       "      <td>4.830301e+14</td>\n",
       "    </tr>\n",
       "  </tbody>\n",
       "</table>\n",
       "</div>"
      ],
      "text/plain": [
       "                                count          mean           std  \\\n",
       "propertylandusetypeid         52320.0  2.610000e+02  0.000000e+00   \n",
       "parcelid                      52320.0  1.299682e+07  3.350919e+06   \n",
       "id                            52320.0  3.890428e+04  2.234519e+04   \n",
       "logerror                      52320.0  1.813138e-02  1.769047e-01   \n",
       "id.1                          52320.0  1.496906e+06  8.594330e+05   \n",
       "airconditioningtypeid         13615.0  2.439589e+00  3.847925e+00   \n",
       "architecturalstyletypeid         70.0  7.100000e+00  2.665670e+00   \n",
       "basementsqft                     47.0  6.789787e+02  7.118252e+02   \n",
       "bathroomcnt                   52320.0  2.300010e+00  1.022807e+00   \n",
       "bedroomcnt                    52320.0  3.300765e+00  9.475551e-01   \n",
       "buildingclasstypeid               0.0           NaN           NaN   \n",
       "buildingqualitytypeid         33655.0  6.264894e+00  1.716346e+00   \n",
       "calculatedbathnbr             52185.0  2.305270e+00  1.018067e+00   \n",
       "decktypeid                      389.0  6.600000e+01  0.000000e+00   \n",
       "finishedfloor1squarefeet       4371.0  1.546288e+03  6.753393e+02   \n",
       "calculatedfinishedsquarefeet  52239.0  1.923153e+03  1.004045e+03   \n",
       "finishedsquarefeet12          52074.0  1.925314e+03  1.003953e+03   \n",
       "finishedsquarefeet13              0.0           NaN           NaN   \n",
       "finishedsquarefeet15              0.0           NaN           NaN   \n",
       "finishedsquarefeet50           4371.0  1.567099e+03  7.450848e+02   \n",
       "finishedsquarefeet6             165.0  1.241079e+03  7.769591e+02   \n",
       "fips                          52320.0  6.049136e+03  2.102913e+01   \n",
       "fireplacecnt                   7233.0  1.209733e+00  5.129456e-01   \n",
       "fullbathcnt                   52185.0  2.240031e+00  9.933029e-01   \n",
       "garagecarcnt                  17984.0  1.949066e+00  5.499741e-01   \n",
       "garagetotalsqft               17984.0  4.959270e+02  1.571009e+02   \n",
       "hashottuborspa                 1514.0  1.000000e+00  0.000000e+00   \n",
       "heatingorsystemtypeid         33850.0  3.965613e+00  2.562660e+00   \n",
       "latitude                      52320.0  3.402256e+07  2.740624e+05   \n",
       "longitude                     52320.0 -1.181941e+08  3.567149e+05   \n",
       "lotsizesquarefeet             51954.0  1.132335e+04  8.674164e+04   \n",
       "poolcnt                       11077.0  1.000000e+00  0.000000e+00   \n",
       "poolsizesum                     865.0  5.183052e+02  1.566148e+02   \n",
       "pooltypeid10                    443.0  1.000000e+00  0.000000e+00   \n",
       "pooltypeid2                    1071.0  1.000000e+00  0.000000e+00   \n",
       "pooltypeid7                    9990.0  1.000000e+00  0.000000e+00   \n",
       "rawcensustractandblock        52320.0  6.049447e+07  2.086892e+05   \n",
       "regionidcity                  51284.0  3.348383e+04  4.911615e+04   \n",
       "regionidcounty                52320.0  2.524321e+03  8.040986e+02   \n",
       "regionidneighborhood          18981.0  1.802406e+05  1.599288e+05   \n",
       "regionidzip                   52294.0  9.663624e+04  4.610382e+03   \n",
       "roomcnt                       52320.0  1.894457e+00  3.146952e+00   \n",
       "storytypeid                      47.0  7.000000e+00  0.000000e+00   \n",
       "threequarterbathnbr            6717.0  1.013697e+00  1.426896e-01   \n",
       "typeconstructiontypeid           76.0  5.973684e+00  2.294157e-01   \n",
       "unitcnt                       33762.0  1.000859e+00  3.028996e-02   \n",
       "yardbuildingsqft17             1935.0  3.373597e+02  2.495793e+02   \n",
       "yardbuildingsqft26               63.0  2.256190e+02  1.885051e+02   \n",
       "yearbuilt                     52206.0  1.963421e+03  2.312567e+01   \n",
       "numberofstories               14532.0  1.414189e+00  5.406849e-01   \n",
       "fireplaceflag                    81.0  1.000000e+00  0.000000e+00   \n",
       "structuretaxvaluedollarcnt    52238.0  1.966362e+05  2.542862e+05   \n",
       "taxvaluedollarcnt             52319.0  5.298235e+05  7.518296e+05   \n",
       "assessmentyear                52320.0  2.016000e+03  0.000000e+00   \n",
       "landtaxvaluedollarcnt         52319.0  3.334917e+05  5.705106e+05   \n",
       "taxamount                     52316.0  6.454743e+03  8.752477e+03   \n",
       "taxdelinquencyyear             2068.0  1.410106e+01  2.400399e+00   \n",
       "censustractandblock           52199.0  6.050245e+13  1.861127e+12   \n",
       "\n",
       "                                       min           25%           50%  \\\n",
       "propertylandusetypeid         2.610000e+02  2.610000e+02  2.610000e+02   \n",
       "parcelid                      1.071186e+07  1.151018e+07  1.257829e+07   \n",
       "id                            0.000000e+00  1.961425e+04  3.898450e+04   \n",
       "logerror                     -4.655420e+00 -2.470687e-02  6.934429e-03   \n",
       "id.1                          3.490000e+02  7.576135e+05  1.500134e+06   \n",
       "airconditioningtypeid         1.000000e+00  1.000000e+00  1.000000e+00   \n",
       "architecturalstyletypeid      2.000000e+00  7.000000e+00  7.000000e+00   \n",
       "basementsqft                  3.800000e+01  2.635000e+02  5.120000e+02   \n",
       "bathroomcnt                   0.000000e+00  2.000000e+00  2.000000e+00   \n",
       "bedroomcnt                    0.000000e+00  3.000000e+00  3.000000e+00   \n",
       "buildingclasstypeid                    NaN           NaN           NaN   \n",
       "buildingqualitytypeid         1.000000e+00  5.000000e+00  6.000000e+00   \n",
       "calculatedbathnbr             1.000000e+00  2.000000e+00  2.000000e+00   \n",
       "decktypeid                    6.600000e+01  6.600000e+01  6.600000e+01   \n",
       "finishedfloor1squarefeet      1.840000e+02  1.151000e+03  1.410000e+03   \n",
       "calculatedfinishedsquarefeet  1.280000e+02  1.268000e+03  1.659000e+03   \n",
       "finishedsquarefeet12          1.280000e+02  1.270000e+03  1.661000e+03   \n",
       "finishedsquarefeet13                   NaN           NaN           NaN   \n",
       "finishedsquarefeet15                   NaN           NaN           NaN   \n",
       "finishedsquarefeet50          1.840000e+02  1.152000e+03  1.415000e+03   \n",
       "finishedsquarefeet6           3.800000e+02  7.840000e+02  1.008000e+03   \n",
       "fips                          6.037000e+03  6.037000e+03  6.037000e+03   \n",
       "fireplacecnt                  1.000000e+00  1.000000e+00  1.000000e+00   \n",
       "fullbathcnt                   1.000000e+00  2.000000e+00  2.000000e+00   \n",
       "garagecarcnt                  0.000000e+00  2.000000e+00  2.000000e+00   \n",
       "garagetotalsqft               0.000000e+00  4.260000e+02  4.620000e+02   \n",
       "hashottuborspa                1.000000e+00  1.000000e+00  1.000000e+00   \n",
       "heatingorsystemtypeid         1.000000e+00  2.000000e+00  2.000000e+00   \n",
       "latitude                      3.334062e+07  3.382690e+07  3.402375e+07   \n",
       "longitude                    -1.194754e+08 -1.184009e+08 -1.181531e+08   \n",
       "lotsizesquarefeet             2.360000e+02  5.583000e+03  6.841000e+03   \n",
       "poolcnt                       1.000000e+00  1.000000e+00  1.000000e+00   \n",
       "poolsizesum                   2.400000e+01  4.240000e+02  5.000000e+02   \n",
       "pooltypeid10                  1.000000e+00  1.000000e+00  1.000000e+00   \n",
       "pooltypeid2                   1.000000e+00  1.000000e+00  1.000000e+00   \n",
       "pooltypeid7                   1.000000e+00  1.000000e+00  1.000000e+00   \n",
       "rawcensustractandblock        6.037101e+07  6.037401e+07  6.037620e+07   \n",
       "regionidcity                  3.491000e+03  1.244700e+04  2.481200e+04   \n",
       "regionidcounty                1.286000e+03  1.286000e+03  3.101000e+03   \n",
       "regionidneighborhood          6.952000e+03  4.113100e+04  1.182080e+05   \n",
       "regionidzip                   9.598200e+04  9.620600e+04  9.641200e+04   \n",
       "roomcnt                       0.000000e+00  0.000000e+00  0.000000e+00   \n",
       "storytypeid                   7.000000e+00  7.000000e+00  7.000000e+00   \n",
       "threequarterbathnbr           1.000000e+00  1.000000e+00  1.000000e+00   \n",
       "typeconstructiontypeid        4.000000e+00  6.000000e+00  6.000000e+00   \n",
       "unitcnt                       1.000000e+00  1.000000e+00  1.000000e+00   \n",
       "yardbuildingsqft17            1.100000e+01  2.000000e+02  2.800000e+02   \n",
       "yardbuildingsqft26            1.200000e+01  7.150000e+01  1.800000e+02   \n",
       "yearbuilt                     1.878000e+03  1.950000e+03  1.961000e+03   \n",
       "numberofstories               1.000000e+00  1.000000e+00  1.000000e+00   \n",
       "fireplaceflag                 1.000000e+00  1.000000e+00  1.000000e+00   \n",
       "structuretaxvaluedollarcnt    1.290000e+02  7.715900e+04  1.319050e+05   \n",
       "taxvaluedollarcnt             1.000000e+03  1.940330e+05  3.740060e+05   \n",
       "assessmentyear                2.016000e+03  2.016000e+03  2.016000e+03   \n",
       "landtaxvaluedollarcnt         1.610000e+02  7.619400e+04  2.180790e+05   \n",
       "taxamount                     4.918000e+01  2.660983e+03  4.650565e+03   \n",
       "taxdelinquencyyear            4.000000e+00  1.400000e+01  1.500000e+01   \n",
       "censustractandblock           6.037101e+13  6.037401e+13  6.037620e+13   \n",
       "\n",
       "                                       75%           max  \n",
       "propertylandusetypeid         2.610000e+02  2.610000e+02  \n",
       "parcelid                      1.413036e+07  1.676878e+08  \n",
       "id                            5.814150e+04  7.761300e+04  \n",
       "logerror                      4.059704e-02  5.262999e+00  \n",
       "id.1                          2.241333e+06  2.982270e+06  \n",
       "airconditioningtypeid         1.000000e+00  1.300000e+01  \n",
       "architecturalstyletypeid      7.000000e+00  2.100000e+01  \n",
       "basementsqft                  8.095000e+02  3.560000e+03  \n",
       "bathroomcnt                   3.000000e+00  1.800000e+01  \n",
       "bedroomcnt                    4.000000e+00  1.400000e+01  \n",
       "buildingclasstypeid                    NaN           NaN  \n",
       "buildingqualitytypeid         8.000000e+00  1.200000e+01  \n",
       "calculatedbathnbr             3.000000e+00  1.800000e+01  \n",
       "decktypeid                    6.600000e+01  6.600000e+01  \n",
       "finishedfloor1squarefeet      1.760000e+03  6.912000e+03  \n",
       "calculatedfinishedsquarefeet  2.306000e+03  2.192900e+04  \n",
       "finishedsquarefeet12          2.309000e+03  2.192900e+04  \n",
       "finishedsquarefeet13                   NaN           NaN  \n",
       "finishedsquarefeet15                   NaN           NaN  \n",
       "finishedsquarefeet50          1.771000e+03  1.246700e+04  \n",
       "finishedsquarefeet6           1.320000e+03  5.598000e+03  \n",
       "fips                          6.059000e+03  6.111000e+03  \n",
       "fireplacecnt                  1.000000e+00  5.000000e+00  \n",
       "fullbathcnt                   3.000000e+00  1.800000e+01  \n",
       "garagecarcnt                  2.000000e+00  1.400000e+01  \n",
       "garagetotalsqft               5.670000e+02  4.251000e+03  \n",
       "hashottuborspa                1.000000e+00  1.000000e+00  \n",
       "heatingorsystemtypeid         7.000000e+00  2.400000e+01  \n",
       "latitude                      3.418725e+07  3.481877e+07  \n",
       "longitude                    -1.179290e+08 -1.175546e+08  \n",
       "lotsizesquarefeet             8.799000e+03  6.971010e+06  \n",
       "poolcnt                       1.000000e+00  1.000000e+00  \n",
       "poolsizesum                   6.000000e+02  1.500000e+03  \n",
       "pooltypeid10                  1.000000e+00  1.000000e+00  \n",
       "pooltypeid2                   1.000000e+00  1.000000e+00  \n",
       "pooltypeid7                   1.000000e+00  1.000000e+00  \n",
       "rawcensustractandblock        6.059042e+07  6.111009e+07  \n",
       "regionidcity                  4.022700e+04  3.965560e+05  \n",
       "regionidcounty                3.101000e+03  3.101000e+03  \n",
       "regionidneighborhood          2.745140e+05  7.641670e+05  \n",
       "regionidzip                   9.699500e+04  3.996750e+05  \n",
       "roomcnt                       5.000000e+00  1.500000e+01  \n",
       "storytypeid                   7.000000e+00  7.000000e+00  \n",
       "threequarterbathnbr           1.000000e+00  7.000000e+00  \n",
       "typeconstructiontypeid        6.000000e+00  6.000000e+00  \n",
       "unitcnt                       1.000000e+00  3.000000e+00  \n",
       "yardbuildingsqft17            4.000000e+02  3.191000e+03  \n",
       "yardbuildingsqft26            3.170000e+02  8.680000e+02  \n",
       "yearbuilt                     1.979000e+03  2.016000e+03  \n",
       "numberofstories               2.000000e+00  6.000000e+00  \n",
       "fireplaceflag                 1.000000e+00  1.000000e+00  \n",
       "structuretaxvaluedollarcnt    2.264532e+05  9.164901e+06  \n",
       "taxvaluedollarcnt             6.193540e+05  4.906124e+07  \n",
       "assessmentyear                2.016000e+03  2.016000e+03  \n",
       "landtaxvaluedollarcnt         4.087770e+05  4.895220e+07  \n",
       "taxamount                     7.379270e+03  5.866393e+05  \n",
       "taxdelinquencyyear            1.500000e+01  9.900000e+01  \n",
       "censustractandblock           6.059042e+13  4.830301e+14  "
      ]
     },
     "execution_count": 4,
     "metadata": {},
     "output_type": "execute_result"
    }
   ],
   "source": [
    "util.metrics(z_df)"
   ]
  },
  {
   "cell_type": "code",
   "execution_count": 5,
   "id": "4b2963f6-fcac-4cf2-9d9d-2b255a23a841",
   "metadata": {},
   "outputs": [],
   "source": [
    "# gets rid of any columns with more that 2% null values\n",
    "z_df = wrangle.percentage_dropper(z_df)"
   ]
  },
  {
   "cell_type": "code",
   "execution_count": 6,
   "id": "c63eb7b8-7f7b-4ff1-97dc-5060b9a99578",
   "metadata": {},
   "outputs": [],
   "source": [
    "# Groups our functions used to clean up our data into a single function for ease of use\n",
    "z_df = wrangle.clean_zillow(z_df)"
   ]
  },
  {
   "cell_type": "code",
   "execution_count": 7,
   "id": "6f5cfe1a-a4e7-4fbd-8739-af7774abe73e",
   "metadata": {},
   "outputs": [
    {
     "data": {
      "text/html": [
       "<div>\n",
       "<style scoped>\n",
       "    .dataframe tbody tr th:only-of-type {\n",
       "        vertical-align: middle;\n",
       "    }\n",
       "\n",
       "    .dataframe tbody tr th {\n",
       "        vertical-align: top;\n",
       "    }\n",
       "\n",
       "    .dataframe thead th {\n",
       "        text-align: right;\n",
       "    }\n",
       "</style>\n",
       "<table border=\"1\" class=\"dataframe\">\n",
       "  <thead>\n",
       "    <tr style=\"text-align: right;\">\n",
       "      <th></th>\n",
       "      <th>parcelid</th>\n",
       "      <th>logerror</th>\n",
       "      <th>transactiondate</th>\n",
       "      <th>bathroomcnt</th>\n",
       "      <th>bedroomcnt</th>\n",
       "      <th>calculatedfinishedsquarefeet</th>\n",
       "      <th>fips</th>\n",
       "      <th>latitude</th>\n",
       "      <th>longitude</th>\n",
       "      <th>lotsizesquarefeet</th>\n",
       "      <th>...</th>\n",
       "      <th>lotsizesquarefeet_outliers</th>\n",
       "      <th>rawcensustractandblock_outliers</th>\n",
       "      <th>regionidcity_outliers</th>\n",
       "      <th>regionidzip_outliers</th>\n",
       "      <th>yearbuilt_outliers</th>\n",
       "      <th>structuretaxvaluedollarcnt_outliers</th>\n",
       "      <th>taxvaluedollarcnt_outliers</th>\n",
       "      <th>landtaxvaluedollarcnt_outliers</th>\n",
       "      <th>taxamount_outliers</th>\n",
       "      <th>censustractandblock_outliers</th>\n",
       "    </tr>\n",
       "  </thead>\n",
       "  <tbody>\n",
       "    <tr>\n",
       "      <th>585</th>\n",
       "      <td>14297519</td>\n",
       "      <td>0.025595</td>\n",
       "      <td>2017-01-01</td>\n",
       "      <td>3.5</td>\n",
       "      <td>4</td>\n",
       "      <td>3100</td>\n",
       "      <td>6059</td>\n",
       "      <td>33634931.0</td>\n",
       "      <td>-117869207.0</td>\n",
       "      <td>4506</td>\n",
       "      <td>...</td>\n",
       "      <td>0.0</td>\n",
       "      <td>0.000000</td>\n",
       "      <td>0.0</td>\n",
       "      <td>0.0</td>\n",
       "      <td>0</td>\n",
       "      <td>47572.375</td>\n",
       "      <td>0.0</td>\n",
       "      <td>0.0</td>\n",
       "      <td>0.0</td>\n",
       "      <td>0.000000e+00</td>\n",
       "    </tr>\n",
       "    <tr>\n",
       "      <th>584</th>\n",
       "      <td>17052889</td>\n",
       "      <td>0.055619</td>\n",
       "      <td>2017-01-01</td>\n",
       "      <td>1.0</td>\n",
       "      <td>2</td>\n",
       "      <td>1465</td>\n",
       "      <td>6111</td>\n",
       "      <td>34449266.0</td>\n",
       "      <td>-119281531.0</td>\n",
       "      <td>12647</td>\n",
       "      <td>...</td>\n",
       "      <td>0.0</td>\n",
       "      <td>194960.798518</td>\n",
       "      <td>0.0</td>\n",
       "      <td>0.0</td>\n",
       "      <td>0</td>\n",
       "      <td>0.000</td>\n",
       "      <td>0.0</td>\n",
       "      <td>0.0</td>\n",
       "      <td>0.0</td>\n",
       "      <td>1.949638e+11</td>\n",
       "    </tr>\n",
       "    <tr>\n",
       "      <th>583</th>\n",
       "      <td>14186244</td>\n",
       "      <td>0.005383</td>\n",
       "      <td>2017-01-01</td>\n",
       "      <td>2.0</td>\n",
       "      <td>3</td>\n",
       "      <td>1243</td>\n",
       "      <td>6059</td>\n",
       "      <td>33886168.0</td>\n",
       "      <td>-117823170.0</td>\n",
       "      <td>8432</td>\n",
       "      <td>...</td>\n",
       "      <td>0.0</td>\n",
       "      <td>0.000000</td>\n",
       "      <td>0.0</td>\n",
       "      <td>0.0</td>\n",
       "      <td>0</td>\n",
       "      <td>0.000</td>\n",
       "      <td>0.0</td>\n",
       "      <td>0.0</td>\n",
       "      <td>0.0</td>\n",
       "      <td>0.000000e+00</td>\n",
       "    </tr>\n",
       "    <tr>\n",
       "      <th>582</th>\n",
       "      <td>12177905</td>\n",
       "      <td>-0.103410</td>\n",
       "      <td>2017-01-01</td>\n",
       "      <td>3.0</td>\n",
       "      <td>4</td>\n",
       "      <td>2376</td>\n",
       "      <td>6037</td>\n",
       "      <td>34245180.0</td>\n",
       "      <td>-118240722.0</td>\n",
       "      <td>13038</td>\n",
       "      <td>...</td>\n",
       "      <td>0.0</td>\n",
       "      <td>0.000000</td>\n",
       "      <td>314654.0</td>\n",
       "      <td>0.0</td>\n",
       "      <td>0</td>\n",
       "      <td>0.000</td>\n",
       "      <td>0.0</td>\n",
       "      <td>0.0</td>\n",
       "      <td>0.0</td>\n",
       "      <td>0.000000e+00</td>\n",
       "    </tr>\n",
       "    <tr>\n",
       "      <th>581</th>\n",
       "      <td>12095076</td>\n",
       "      <td>-0.001011</td>\n",
       "      <td>2017-01-01</td>\n",
       "      <td>3.0</td>\n",
       "      <td>4</td>\n",
       "      <td>2962</td>\n",
       "      <td>6037</td>\n",
       "      <td>34145202.0</td>\n",
       "      <td>-118179824.0</td>\n",
       "      <td>63000</td>\n",
       "      <td>...</td>\n",
       "      <td>49481.5</td>\n",
       "      <td>0.000000</td>\n",
       "      <td>0.0</td>\n",
       "      <td>0.0</td>\n",
       "      <td>0</td>\n",
       "      <td>0.000</td>\n",
       "      <td>0.0</td>\n",
       "      <td>0.0</td>\n",
       "      <td>0.0</td>\n",
       "      <td>0.000000e+00</td>\n",
       "    </tr>\n",
       "    <tr>\n",
       "      <th>...</th>\n",
       "      <td>...</td>\n",
       "      <td>...</td>\n",
       "      <td>...</td>\n",
       "      <td>...</td>\n",
       "      <td>...</td>\n",
       "      <td>...</td>\n",
       "      <td>...</td>\n",
       "      <td>...</td>\n",
       "      <td>...</td>\n",
       "      <td>...</td>\n",
       "      <td>...</td>\n",
       "      <td>...</td>\n",
       "      <td>...</td>\n",
       "      <td>...</td>\n",
       "      <td>...</td>\n",
       "      <td>...</td>\n",
       "      <td>...</td>\n",
       "      <td>...</td>\n",
       "      <td>...</td>\n",
       "      <td>...</td>\n",
       "      <td>...</td>\n",
       "    </tr>\n",
       "    <tr>\n",
       "      <th>51815</th>\n",
       "      <td>11000655</td>\n",
       "      <td>0.020615</td>\n",
       "      <td>2017-09-20</td>\n",
       "      <td>2.0</td>\n",
       "      <td>2</td>\n",
       "      <td>1286</td>\n",
       "      <td>6037</td>\n",
       "      <td>34245368.0</td>\n",
       "      <td>-118282383.0</td>\n",
       "      <td>47405</td>\n",
       "      <td>...</td>\n",
       "      <td>33886.5</td>\n",
       "      <td>0.000000</td>\n",
       "      <td>0.0</td>\n",
       "      <td>0.0</td>\n",
       "      <td>0</td>\n",
       "      <td>0.000</td>\n",
       "      <td>0.0</td>\n",
       "      <td>0.0</td>\n",
       "      <td>0.0</td>\n",
       "      <td>0.000000e+00</td>\n",
       "    </tr>\n",
       "    <tr>\n",
       "      <th>51814</th>\n",
       "      <td>17239384</td>\n",
       "      <td>0.013209</td>\n",
       "      <td>2017-09-21</td>\n",
       "      <td>2.0</td>\n",
       "      <td>4</td>\n",
       "      <td>1612</td>\n",
       "      <td>6111</td>\n",
       "      <td>34300140.0</td>\n",
       "      <td>-118706327.0</td>\n",
       "      <td>12105</td>\n",
       "      <td>...</td>\n",
       "      <td>0.0</td>\n",
       "      <td>195034.797528</td>\n",
       "      <td>0.0</td>\n",
       "      <td>0.0</td>\n",
       "      <td>0</td>\n",
       "      <td>0.000</td>\n",
       "      <td>0.0</td>\n",
       "      <td>0.0</td>\n",
       "      <td>0.0</td>\n",
       "      <td>1.950378e+11</td>\n",
       "    </tr>\n",
       "    <tr>\n",
       "      <th>51813</th>\n",
       "      <td>12773139</td>\n",
       "      <td>0.037129</td>\n",
       "      <td>2017-09-21</td>\n",
       "      <td>1.0</td>\n",
       "      <td>3</td>\n",
       "      <td>1032</td>\n",
       "      <td>6037</td>\n",
       "      <td>34040895.0</td>\n",
       "      <td>-118038169.0</td>\n",
       "      <td>5074</td>\n",
       "      <td>...</td>\n",
       "      <td>0.0</td>\n",
       "      <td>0.000000</td>\n",
       "      <td>0.0</td>\n",
       "      <td>0.0</td>\n",
       "      <td>0</td>\n",
       "      <td>0.000</td>\n",
       "      <td>0.0</td>\n",
       "      <td>0.0</td>\n",
       "      <td>0.0</td>\n",
       "      <td>0.000000e+00</td>\n",
       "    </tr>\n",
       "    <tr>\n",
       "      <th>51812</th>\n",
       "      <td>12826780</td>\n",
       "      <td>0.007204</td>\n",
       "      <td>2017-09-25</td>\n",
       "      <td>2.0</td>\n",
       "      <td>3</td>\n",
       "      <td>1762</td>\n",
       "      <td>6037</td>\n",
       "      <td>33937685.0</td>\n",
       "      <td>-117996709.0</td>\n",
       "      <td>6347</td>\n",
       "      <td>...</td>\n",
       "      <td>0.0</td>\n",
       "      <td>0.000000</td>\n",
       "      <td>0.0</td>\n",
       "      <td>0.0</td>\n",
       "      <td>0</td>\n",
       "      <td>0.000</td>\n",
       "      <td>0.0</td>\n",
       "      <td>0.0</td>\n",
       "      <td>0.0</td>\n",
       "      <td>0.000000e+00</td>\n",
       "    </tr>\n",
       "    <tr>\n",
       "      <th>51811</th>\n",
       "      <td>13083743</td>\n",
       "      <td>-0.197755</td>\n",
       "      <td>2018-05-25</td>\n",
       "      <td>2.0</td>\n",
       "      <td>3</td>\n",
       "      <td>1050</td>\n",
       "      <td>6037</td>\n",
       "      <td>34010864.0</td>\n",
       "      <td>-117900894.0</td>\n",
       "      <td>5927</td>\n",
       "      <td>...</td>\n",
       "      <td>0.0</td>\n",
       "      <td>0.000000</td>\n",
       "      <td>36320.0</td>\n",
       "      <td>0.0</td>\n",
       "      <td>0</td>\n",
       "      <td>0.000</td>\n",
       "      <td>0.0</td>\n",
       "      <td>0.0</td>\n",
       "      <td>0.0</td>\n",
       "      <td>0.000000e+00</td>\n",
       "    </tr>\n",
       "  </tbody>\n",
       "</table>\n",
       "<p>50754 rows × 39 columns</p>\n",
       "</div>"
      ],
      "text/plain": [
       "       parcelid  logerror transactiondate  bathroomcnt  bedroomcnt  \\\n",
       "585    14297519  0.025595      2017-01-01          3.5           4   \n",
       "584    17052889  0.055619      2017-01-01          1.0           2   \n",
       "583    14186244  0.005383      2017-01-01          2.0           3   \n",
       "582    12177905 -0.103410      2017-01-01          3.0           4   \n",
       "581    12095076 -0.001011      2017-01-01          3.0           4   \n",
       "...         ...       ...             ...          ...         ...   \n",
       "51815  11000655  0.020615      2017-09-20          2.0           2   \n",
       "51814  17239384  0.013209      2017-09-21          2.0           4   \n",
       "51813  12773139  0.037129      2017-09-21          1.0           3   \n",
       "51812  12826780  0.007204      2017-09-25          2.0           3   \n",
       "51811  13083743 -0.197755      2018-05-25          2.0           3   \n",
       "\n",
       "       calculatedfinishedsquarefeet  fips    latitude    longitude  \\\n",
       "585                            3100  6059  33634931.0 -117869207.0   \n",
       "584                            1465  6111  34449266.0 -119281531.0   \n",
       "583                            1243  6059  33886168.0 -117823170.0   \n",
       "582                            2376  6037  34245180.0 -118240722.0   \n",
       "581                            2962  6037  34145202.0 -118179824.0   \n",
       "...                             ...   ...         ...          ...   \n",
       "51815                          1286  6037  34245368.0 -118282383.0   \n",
       "51814                          1612  6111  34300140.0 -118706327.0   \n",
       "51813                          1032  6037  34040895.0 -118038169.0   \n",
       "51812                          1762  6037  33937685.0 -117996709.0   \n",
       "51811                          1050  6037  34010864.0 -117900894.0   \n",
       "\n",
       "       lotsizesquarefeet  ... lotsizesquarefeet_outliers  \\\n",
       "585                 4506  ...                        0.0   \n",
       "584                12647  ...                        0.0   \n",
       "583                 8432  ...                        0.0   \n",
       "582                13038  ...                        0.0   \n",
       "581                63000  ...                    49481.5   \n",
       "...                  ...  ...                        ...   \n",
       "51815              47405  ...                    33886.5   \n",
       "51814              12105  ...                        0.0   \n",
       "51813               5074  ...                        0.0   \n",
       "51812               6347  ...                        0.0   \n",
       "51811               5927  ...                        0.0   \n",
       "\n",
       "       rawcensustractandblock_outliers  regionidcity_outliers  \\\n",
       "585                           0.000000                    0.0   \n",
       "584                      194960.798518                    0.0   \n",
       "583                           0.000000                    0.0   \n",
       "582                           0.000000               314654.0   \n",
       "581                           0.000000                    0.0   \n",
       "...                                ...                    ...   \n",
       "51815                         0.000000                    0.0   \n",
       "51814                    195034.797528                    0.0   \n",
       "51813                         0.000000                    0.0   \n",
       "51812                         0.000000                    0.0   \n",
       "51811                         0.000000                36320.0   \n",
       "\n",
       "       regionidzip_outliers  yearbuilt_outliers  \\\n",
       "585                     0.0                   0   \n",
       "584                     0.0                   0   \n",
       "583                     0.0                   0   \n",
       "582                     0.0                   0   \n",
       "581                     0.0                   0   \n",
       "...                     ...                 ...   \n",
       "51815                   0.0                   0   \n",
       "51814                   0.0                   0   \n",
       "51813                   0.0                   0   \n",
       "51812                   0.0                   0   \n",
       "51811                   0.0                   0   \n",
       "\n",
       "       structuretaxvaluedollarcnt_outliers  taxvaluedollarcnt_outliers  \\\n",
       "585                              47572.375                         0.0   \n",
       "584                                  0.000                         0.0   \n",
       "583                                  0.000                         0.0   \n",
       "582                                  0.000                         0.0   \n",
       "581                                  0.000                         0.0   \n",
       "...                                    ...                         ...   \n",
       "51815                                0.000                         0.0   \n",
       "51814                                0.000                         0.0   \n",
       "51813                                0.000                         0.0   \n",
       "51812                                0.000                         0.0   \n",
       "51811                                0.000                         0.0   \n",
       "\n",
       "       landtaxvaluedollarcnt_outliers  taxamount_outliers  \\\n",
       "585                               0.0                 0.0   \n",
       "584                               0.0                 0.0   \n",
       "583                               0.0                 0.0   \n",
       "582                               0.0                 0.0   \n",
       "581                               0.0                 0.0   \n",
       "...                               ...                 ...   \n",
       "51815                             0.0                 0.0   \n",
       "51814                             0.0                 0.0   \n",
       "51813                             0.0                 0.0   \n",
       "51812                             0.0                 0.0   \n",
       "51811                             0.0                 0.0   \n",
       "\n",
       "       censustractandblock_outliers  \n",
       "585                    0.000000e+00  \n",
       "584                    1.949638e+11  \n",
       "583                    0.000000e+00  \n",
       "582                    0.000000e+00  \n",
       "581                    0.000000e+00  \n",
       "...                             ...  \n",
       "51815                  0.000000e+00  \n",
       "51814                  1.950378e+11  \n",
       "51813                  0.000000e+00  \n",
       "51812                  0.000000e+00  \n",
       "51811                  0.000000e+00  \n",
       "\n",
       "[50754 rows x 39 columns]"
      ]
     },
     "execution_count": 7,
     "metadata": {},
     "output_type": "execute_result"
    }
   ],
   "source": [
    "#Adds columns with the suffix _outliers for all the numeric columns in the given dataframe\n",
    "wrangle.add_upper_outlier_columns(z_df, k=1.5)"
   ]
  },
  {
   "cell_type": "code",
   "execution_count": 8,
   "id": "11d79fac-dde9-4255-8f20-e1451f4ec74f",
   "metadata": {},
   "outputs": [],
   "source": [
    "# drops rows for outliers in the outlier columns from dataframe\n",
    "z_df.drop(z_df.index[z_df['bathroomcnt_outliers'] != 0], inplace=True)\n",
    "z_df.drop(z_df.index[z_df['bedroomcnt_outliers'] != 0], inplace=True)\n",
    "z_df.drop(z_df.index[z_df['calculatedfinishedsquarefeet_outliers'] != 0], inplace=True)\n",
    "z_df.drop(z_df.index[z_df['lotsizesquarefeet_outliers'] != 0], inplace=True)\n",
    "z_df.drop(z_df.index[z_df['structuretaxvaluedollarcnt_outliers'] != 0], inplace=True)\n",
    "z_df.drop(z_df.index[z_df['taxvaluedollarcnt_outliers'] != 0], inplace=True)\n",
    "z_df.drop(z_df.index[z_df['landtaxvaluedollarcnt_outliers'] != 0], inplace=True)\n",
    "z_df.drop(z_df.index[z_df['taxamount_outliers'] != 0], inplace=True)\n"
   ]
  },
  {
   "cell_type": "code",
   "execution_count": 9,
   "id": "8b3bf251-5341-4f83-b241-e1fb0bc60125",
   "metadata": {},
   "outputs": [],
   "source": [
    "# drops columns that originally held the outliers\n",
    "z_df = z_df.drop(['parcelid_outliers', 'logerror_outliers', 'fips_outliers', 'latitude_outliers', 'longitude_outliers', 'rawcensustractandblock_outliers', 'regionidcity_outliers', 'regionidzip_outliers', 'yearbuilt_outliers', 'bathroomcnt_outliers', 'censustractandblock_outliers', 'bedroomcnt_outliers', 'calculatedfinishedsquarefeet_outliers', 'lotsizesquarefeet_outliers', 'structuretaxvaluedollarcnt_outliers', 'taxvaluedollarcnt_outliers', \n",
    "'landtaxvaluedollarcnt_outliers', 'taxamount_outliers'], axis = 1)"
   ]
  },
  {
   "cell_type": "markdown",
   "id": "7fa2c52b-cabd-406d-a1a7-7092228e9c51",
   "metadata": {},
   "source": [
    "<hr style=\"border-top: 12px groove royalblue; margin-top: 1px; margin-bottom: 1px\"></hr>"
   ]
  },
  {
   "cell_type": "markdown",
   "id": "08d640ee-ae37-41b6-a828-b34e1d631685",
   "metadata": {
    "tags": []
   },
   "source": [
    "### <font color='darkblue'>- Exploratory Analysis</font>"
   ]
  },
  {
   "cell_type": "markdown",
   "id": "c3848bd0-2077-4631-95eb-e3a8e6deaf46",
   "metadata": {
    "tags": []
   },
   "source": [
    "<hr style=\"border-top: 12px groove yellowgreen; margin-top: 1px; margin-bottom: 1px\"></hr>"
   ]
  },
  {
   "cell_type": "markdown",
   "id": "a11a15fd-0589-40fd-8483-9be009bd6b1d",
   "metadata": {},
   "source": [
    "- Can we see patterns, find signals in the data?\n",
    "\n",
    "- What features are driving the outcome?\n",
    "\n",
    "- Are there other features we can construct that have stronger relationships?\n",
    "\n",
    "- Use Visualization and statistical testing to help answer these questions\n",
    "\n",
    "- We want to walk away from exploration with with modeling strategies (feature selection, algorithm selection, evaluation methods"
   ]
  },
  {
   "cell_type": "markdown",
   "id": "b61df4cc-580e-4309-a4cb-2f8e5cc01cf2",
   "metadata": {},
   "source": [
    "#### Splitting Data\n",
    " - Split data for exploration into train, validate, and test at 48%, 32%, and 20% of original data set respectively"
   ]
  },
  {
   "cell_type": "code",
   "execution_count": 10,
   "id": "2e296611-adc4-42ce-8984-e926bf2a5d97",
   "metadata": {},
   "outputs": [
    {
     "name": "stdout",
     "output_type": "stream",
     "text": [
      "train observations:  19908\n",
      "validate observations:  13272\n",
      "test observations:  8296\n"
     ]
    }
   ],
   "source": [
    "# splits test off, 20% of original df size, splits validate off 40% of what remains (32% of original df size)\n",
    "train, validate, test = wrangle.split_zillow(z_df)\n",
    "print(\"train observations: \", train.shape[0])\n",
    "print(\"validate observations: \", validate.shape[0])\n",
    "print(\"test observations: \", test.shape[0])"
   ]
  },
  {
   "cell_type": "markdown",
   "id": "8e833982-800a-415b-927b-941088cc0714",
   "metadata": {},
   "source": [
    "#### Statistical Tests\n",
    "- Showing the relationships between Log Error and various features to see if there's a strong enough correlation to be used as a feature after clustering.\n",
    "- Looking for a positive or negative correlation of at least 40% for consideration\n",
    "- α = 0.05"
   ]
  },
  {
   "cell_type": "code",
   "execution_count": 11,
   "id": "ff583e19-daf5-477e-b46f-44a382bcf391",
   "metadata": {},
   "outputs": [],
   "source": [
    "# set the alpha at a 95% confidence interval\n",
    "α = 0.05"
   ]
  },
  {
   "cell_type": "markdown",
   "id": "e96df07b-a0f7-4f18-ab9a-945a22ed4492",
   "metadata": {},
   "source": [
    "**Q1** - Is there a significant relationship between Bedroom Count and Log Error?\n",
    "- $H_0$ : Null hypothesis - There's statistically significant relationship between the number of bedrooms and the Zestimate log error.\n",
    "- $H_a$ : Alternative hypothesis - There's not a statistically significant relationship between the number of bedrooms and the Zestimate log error."
   ]
  },
  {
   "cell_type": "markdown",
   "id": "54b36167-5a42-4fd3-95fb-5eed6e6009c4",
   "metadata": {
    "tags": []
   },
   "source": [
    "##### Scatter plot between Bedroom Count and Log Error"
   ]
  },
  {
   "cell_type": "code",
   "execution_count": 12,
   "id": "8ff8e6a4-5398-4d64-a85f-8cf61d1ff115",
   "metadata": {},
   "outputs": [
    {
     "data": {
      "text/plain": [
       "<Figure size 864x432 with 0 Axes>"
      ]
     },
     "metadata": {},
     "output_type": "display_data"
    },
    {
     "data": {
      "image/png": "[encoded data removed]",
      "text/plain": [
       "<Figure size 360x360 with 1 Axes>"
      ]
     },
     "metadata": {
      "needs_background": "light"
     },
     "output_type": "display_data"
    }
   ],
   "source": [
    "# set a larger figure size\n",
    "plt.figure(figsize = (12,6))\n",
    "# create a scatterplot\n",
    "sns.relplot(data=train, x= 'bedroomcnt', y= 'logerror')\n",
    "# make plot labels\n",
    "plt.title('Log Error and Bedroom Count Relationship', fontsize = 20)\n",
    "plt.xlabel('Bedrooms', fontsize = 20)\n",
    "plt.xticks(fontsize = 16)\n",
    "plt.yticks(fontsize = 16)\n",
    "plt.ylabel('Log Error', fontsize = 20)\n",
    "\n",
    "plt.show()"
   ]
  },
  {
   "cell_type": "markdown",
   "id": "979ce57f-68ef-468f-9f60-e8f848308f87",
   "metadata": {},
   "source": [
    "Pearson's R for Bedroom Count vs Logerror"
   ]
  },
  {
   "cell_type": "code",
   "execution_count": 13,
   "id": "076aad93-9b63-48d9-acd4-f7047e319c94",
   "metadata": {},
   "outputs": [
    {
     "data": {
      "text/plain": [
       "(0.020434634051143055, 0.003934584397033038)"
      ]
     },
     "execution_count": 13,
     "metadata": {},
     "output_type": "execute_result"
    }
   ],
   "source": [
    "# sets x & y values equal to churned bedroomcnt and logerror for correlation test\n",
    "x = train.bedroomcnt\n",
    "y = train.logerror\n",
    "\n",
    "corr, p = stats.pearsonr(x, y)\n",
    "corr, p"
   ]
  },
  {
   "cell_type": "code",
   "execution_count": 14,
   "id": "8bfcb0c0-d81e-450b-b8c3-14d664fd3a32",
   "metadata": {},
   "outputs": [
    {
     "name": "stdout",
     "output_type": "stream",
     "text": [
      "Reject the null hypothesis\n"
     ]
    }
   ],
   "source": [
    "# if statement to print out result of our null hypothesis\n",
    "if p < α:\n",
    "        print(\"Reject the null hypothesis\")\n",
    "else:\n",
    "    print(\"Fail to reject the null hypothesis\")"
   ]
  },
  {
   "cell_type": "markdown",
   "id": "e5de2318-bbaa-4666-9ff9-b5239e5cde23",
   "metadata": {},
   "source": [
    "**Q2** - Is there a significant relationship between Bathroom Count and Log Error?\n",
    "- $H_0$ : Null hypothesis - There's statistically significant relationship between the number of bathrooms and the Zestimate log error.\n",
    "- $H_a$ : Alternative hypothesis - There's not a statistically significant relationship between the number of bathrooms and the Zestimate log error."
   ]
  },
  {
   "cell_type": "markdown",
   "id": "6df877f5-7467-47f3-b804-91c427cb172b",
   "metadata": {
    "tags": []
   },
   "source": [
    "##### Scatter plot between Bathroom Count and Log Error"
   ]
  },
  {
   "cell_type": "code",
   "execution_count": 15,
   "id": "8f657d49-d306-4d2f-b332-4f60a9cefe4a",
   "metadata": {},
   "outputs": [
    {
     "data": {
      "text/plain": [
       "<Figure size 864x432 with 0 Axes>"
      ]
     },
     "metadata": {},
     "output_type": "display_data"
    },
    {
     "data": {
      "image/png": "[encoded data removed]",
      "text/plain": [
       "<Figure size 360x360 with 1 Axes>"
      ]
     },
     "metadata": {
      "needs_background": "light"
     },
     "output_type": "display_data"
    }
   ],
   "source": [
    "# set a larger figure size\n",
    "plt.figure(figsize = (12,6))\n",
    "# create a scatterplot\n",
    "sns.relplot(data=train, x= 'bathroomcnt', y= 'logerror')\n",
    "# make plot labels\n",
    "plt.title('Log Error and Bathroom Count Relationship', fontsize = 20)\n",
    "plt.xlabel('Bathrooms', fontsize = 20)\n",
    "plt.xticks(fontsize = 16)\n",
    "plt.yticks(fontsize = 16)\n",
    "plt.ylabel('Log Error', fontsize = 20)\n",
    "\n",
    "plt.show()"
   ]
  },
  {
   "cell_type": "markdown",
   "id": "d4985f95-40d6-470d-ae40-eed5a007bf15",
   "metadata": {},
   "source": [
    "*Pearson's R* for Bathroom Count vs Logerror"
   ]
  },
  {
   "cell_type": "code",
   "execution_count": 16,
   "id": "d0b7ddbc-22c7-4f3d-9102-68916be0e814",
   "metadata": {},
   "outputs": [
    {
     "data": {
      "text/plain": [
       "(0.009492317653646203, 0.18048233840583786)"
      ]
     },
     "execution_count": 16,
     "metadata": {},
     "output_type": "execute_result"
    }
   ],
   "source": [
    "# sets x & y values equal to churned bedroomcnt and logerror for correlation test\n",
    "x = train.bathroomcnt\n",
    "y = train.logerror\n",
    "\n",
    "corr, p = stats.pearsonr(x, y)\n",
    "corr, p"
   ]
  },
  {
   "cell_type": "code",
   "execution_count": 17,
   "id": "3fb0f368-37c5-46b1-be91-3229798d60f4",
   "metadata": {},
   "outputs": [
    {
     "name": "stdout",
     "output_type": "stream",
     "text": [
      "Fail to reject the null hypothesis\n"
     ]
    }
   ],
   "source": [
    "# if statement to print out result of our null hypothesis\n",
    "if p < α:\n",
    "        print(\"Reject the null hypothesis\")\n",
    "else:\n",
    "    print(\"Fail to reject the null hypothesis\")"
   ]
  },
  {
   "cell_type": "markdown",
   "id": "50da3171-2fbb-46bc-9652-79e08a159dee",
   "metadata": {},
   "source": [
    "**Q3** - Is there a significant relationship between Home Area and Log Error?\n",
    "- $H_0$ : Null hypothesis - There's statistically significant relationship between the home area ft$^2$ and the Zestimate log error.\n",
    "- $H_a$ : Alternative hypothesis - There's not a statistically significant relationship between the home area ft$^2$ and the Zestimate log error."
   ]
  },
  {
   "cell_type": "markdown",
   "id": "58b607cb-4d66-4bed-97a7-bfca36b63fdd",
   "metadata": {
    "tags": []
   },
   "source": [
    "##### Scatter plot between Home Area and Log Error"
   ]
  },
  {
   "cell_type": "code",
   "execution_count": 18,
   "id": "8359f947-ef7f-4bc3-83b9-790a9cf28b02",
   "metadata": {},
   "outputs": [
    {
     "data": {
      "text/plain": [
       "<Figure size 864x432 with 0 Axes>"
      ]
     },
     "metadata": {},
     "output_type": "display_data"
    },
    {
     "data": {
      "image/png": "[encoded data removed]",
      "text/plain": [
       "<Figure size 360x360 with 1 Axes>"
      ]
     },
     "metadata": {
      "needs_background": "light"
     },
     "output_type": "display_data"
    }
   ],
   "source": [
    "# set a larger figure size\n",
    "plt.figure(figsize = (12,6))\n",
    "# create a scatterplot\n",
    "sns.relplot(data=train, x= 'calculatedfinishedsquarefeet', y= 'logerror')\n",
    "# make plot labels\n",
    "plt.title('Log Error and Home ft$^2$ Relationship', fontsize = 20)\n",
    "plt.xlabel('Home ft$^2$', fontsize = 20)\n",
    "plt.xticks(fontsize = 10)\n",
    "plt.yticks(fontsize = 10)\n",
    "plt.ylabel('Log Error', fontsize = 20)\n",
    "\n",
    "plt.show()"
   ]
  },
  {
   "cell_type": "markdown",
   "id": "e36beb78-9ba9-4590-b05c-a1b4c2177ef9",
   "metadata": {},
   "source": [
    "*Pearson's R* for Home Area vs Logerror"
   ]
  },
  {
   "cell_type": "code",
   "execution_count": 19,
   "id": "8f91b2e7-7c69-49df-af90-a2093e6afac3",
   "metadata": {},
   "outputs": [
    {
     "data": {
      "text/plain": [
       "(0.010315531165672139, 0.14555176524038793)"
      ]
     },
     "execution_count": 19,
     "metadata": {},
     "output_type": "execute_result"
    }
   ],
   "source": [
    "# sets x & y values equal to churned bedroomcnt and logerror for correlation test\n",
    "x = train.calculatedfinishedsquarefeet\n",
    "y = train.logerror\n",
    "\n",
    "corr, p = stats.pearsonr(x, y)\n",
    "corr, p"
   ]
  },
  {
   "cell_type": "code",
   "execution_count": 20,
   "id": "cb466e10-fea6-46fb-9139-f658fb4ce487",
   "metadata": {},
   "outputs": [
    {
     "name": "stdout",
     "output_type": "stream",
     "text": [
      "Fail to reject the null hypothesis\n"
     ]
    }
   ],
   "source": [
    "# if statement to print out result of our null hypothesis\n",
    "if p < α:\n",
    "        print(\"Reject the null hypothesis\")\n",
    "else:\n",
    "    print(\"Fail to reject the null hypothesis\")"
   ]
  },
  {
   "cell_type": "markdown",
   "id": "c2f213b0-8f6b-4c99-a71e-dc9e6d58d660",
   "metadata": {},
   "source": [
    "**Q4** - Is there a significant relationship between Lot Area and Log Error?\n",
    "- $H_0$ : Null hypothesis - There's statistically significant relationship between the lot area ft$^2$ and the Zestimate log error.\n",
    "- $H_a$ : Alternative hypothesis - There's not a statistically significant relationship between the lot area ft$^2$ and the Zestimate log error."
   ]
  },
  {
   "cell_type": "markdown",
   "id": "e57c55e8-86fc-43fe-965e-bf863119ae3e",
   "metadata": {
    "tags": []
   },
   "source": [
    "##### Scatter plot between Lot Area and Log Error"
   ]
  },
  {
   "cell_type": "code",
   "execution_count": 21,
   "id": "081c4662-b557-4eda-8421-4dccce543e12",
   "metadata": {},
   "outputs": [
    {
     "data": {
      "text/plain": [
       "<Figure size 864x432 with 0 Axes>"
      ]
     },
     "metadata": {},
     "output_type": "display_data"
    },
    {
     "data": {
      "image/png": "[encoded data removed]",
      "text/plain": [
       "<Figure size 360x360 with 1 Axes>"
      ]
     },
     "metadata": {
      "needs_background": "light"
     },
     "output_type": "display_data"
    }
   ],
   "source": [
    "# set a larger figure size\n",
    "plt.figure(figsize = (12,6))\n",
    "# create a scatterplot\n",
    "sns.relplot(data=train, x= 'lotsizesquarefeet', y= 'logerror')\n",
    "# make plot labels\n",
    "plt.title('Log Error and Lot ft$^2$ Relationship', fontsize = 20)\n",
    "plt.xlabel('Lot ft$^2$', fontsize = 20)\n",
    "plt.xticks(fontsize = 10)\n",
    "plt.yticks(fontsize = 10)\n",
    "plt.ylabel('Log Error', fontsize = 20)\n",
    "\n",
    "plt.show()"
   ]
  },
  {
   "cell_type": "markdown",
   "id": "8592ce13-248c-4f30-b855-ed094f775325",
   "metadata": {},
   "source": [
    "*Pearson's R* for Lot Area vs Logerror"
   ]
  },
  {
   "cell_type": "code",
   "execution_count": 22,
   "id": "6cc73b4d-6bdc-4157-988a-1b134cdf3234",
   "metadata": {},
   "outputs": [
    {
     "data": {
      "text/plain": [
       "(0.00264559323794512, 0.7089556311881496)"
      ]
     },
     "execution_count": 22,
     "metadata": {},
     "output_type": "execute_result"
    }
   ],
   "source": [
    "# sets x & y values equal to churned bedroomcnt and logerror for correlation test\n",
    "x = train.lotsizesquarefeet\n",
    "y = train.logerror\n",
    "\n",
    "corr, p = stats.pearsonr(x, y)\n",
    "corr, p"
   ]
  },
  {
   "cell_type": "code",
   "execution_count": 23,
   "id": "9a6c5925-1333-454f-88d7-9bac610f18fb",
   "metadata": {},
   "outputs": [
    {
     "name": "stdout",
     "output_type": "stream",
     "text": [
      "Fail to reject the null hypothesis\n"
     ]
    }
   ],
   "source": [
    "# if statement to print out result of our null hypothesis\n",
    "if p < α:\n",
    "        print(\"Reject the null hypothesis\")\n",
    "else:\n",
    "    print(\"Fail to reject the null hypothesis\")"
   ]
  },
  {
   "cell_type": "markdown",
   "id": "842179d9-cf92-47c3-a017-c994d704b1fc",
   "metadata": {},
   "source": [
    "**Q5** - Is there a significant relationship between House Value and Log Error?\n",
    "- $H_0$ : Null hypothesis - There's statistically significant relationship between the home value and the Zestimate log error.\n",
    "- $H_a$ : Alternative hypothesis - There's not a statistically significant relationship between the home value and the Zestimate log error."
   ]
  },
  {
   "cell_type": "markdown",
   "id": "44b512f7-7e97-4abb-86d4-bd8c2bd3f100",
   "metadata": {
    "tags": []
   },
   "source": [
    "##### Scatter plot between House Value and Log Error"
   ]
  },
  {
   "cell_type": "code",
   "execution_count": 24,
   "id": "aa8381ba-8dd2-41eb-805f-edbc0a73f5fa",
   "metadata": {},
   "outputs": [
    {
     "data": {
      "text/plain": [
       "<Figure size 864x432 with 0 Axes>"
      ]
     },
     "metadata": {},
     "output_type": "display_data"
    },
    {
     "data": {
      "image/png": "[encoded data removed]",
      "text/plain": [
       "<Figure size 360x360 with 1 Axes>"
      ]
     },
     "metadata": {
      "needs_background": "light"
     },
     "output_type": "display_data"
    }
   ],
   "source": [
    "# set a larger figure size\n",
    "plt.figure(figsize = (12,6))\n",
    "# create a scatterplot\n",
    "sns.relplot(data=train, x= 'structuretaxvaluedollarcnt', y= 'logerror')\n",
    "# make plot labels\n",
    "plt.title('Log Error and House Value Relationship', fontsize = 20)\n",
    "plt.xlabel('House Value', fontsize = 20)\n",
    "plt.xticks(fontsize = 10)\n",
    "plt.yticks(fontsize = 10)\n",
    "plt.ylabel('Log Error', fontsize = 20)\n",
    "\n",
    "plt.show()"
   ]
  },
  {
   "cell_type": "markdown",
   "id": "1422fdf6-0800-464e-a86c-8c9eac4ec792",
   "metadata": {},
   "source": [
    "*Pearson's R* for House Value vs Logerror"
   ]
  },
  {
   "cell_type": "code",
   "execution_count": 25,
   "id": "fff63bd2-b76f-4127-b255-d36c5e856185",
   "metadata": {},
   "outputs": [
    {
     "data": {
      "text/plain": [
       "(-0.027960603524912413, 7.958548545766259e-05)"
      ]
     },
     "execution_count": 25,
     "metadata": {},
     "output_type": "execute_result"
    }
   ],
   "source": [
    "# sets x & y values equal to churned bedroomcnt and logerror for correlation test\n",
    "x = train.structuretaxvaluedollarcnt\n",
    "y = train.logerror\n",
    "\n",
    "corr, p = stats.pearsonr(x, y)\n",
    "corr, p"
   ]
  },
  {
   "cell_type": "code",
   "execution_count": 26,
   "id": "96ace8b1-f0b2-452e-afbf-ad9d2dfa0ce2",
   "metadata": {},
   "outputs": [
    {
     "name": "stdout",
     "output_type": "stream",
     "text": [
      "Reject the null hypothesis\n"
     ]
    }
   ],
   "source": [
    "# if statement to print out result of our null hypothesis\n",
    "if p < α:\n",
    "        print(\"Reject the null hypothesis\")\n",
    "else:\n",
    "    print(\"Fail to reject the null hypothesis\")"
   ]
  },
  {
   "cell_type": "markdown",
   "id": "f5f6afda-2cad-48f4-b4a9-ae0e3f94a4ef",
   "metadata": {
    "tags": []
   },
   "source": [
    "#### Exploration Summary\n",
    "- There's statistically significant results only for Bedroom Count and Home Value.  Bathroom Count, Home Area, and Lot Area did not show statistically signifcant results.\n",
    "- However none of the relationships we tested for met the the target correlation criteria the strongest being a negative correlation with home value at a p-value of -0.028.\n",
    "- Perhaps we can find stronger relationships amongst individual clusters once we break them out into the appropriate groups.\n"
   ]
  },
  {
   "cell_type": "markdown",
   "id": "99e33825-083c-471f-b0b5-4acf8b5ac2d3",
   "metadata": {},
   "source": [
    "<hr style=\"border-top: 12px groove royalblue; margin-top: 1px; margin-bottom: 1px\"></hr>"
   ]
  },
  {
   "cell_type": "markdown",
   "id": "53e18430-360c-49ec-a349-402002dfe3f2",
   "metadata": {},
   "source": [
    "### <font color='darkblue'>- Modeling</font>\n"
   ]
  },
  {
   "cell_type": "markdown",
   "id": "c663badb-8bc6-4a05-bd6d-47e97e73667e",
   "metadata": {
    "tags": []
   },
   "source": [
    "<hr style=\"border-top: 12px groove yellowgreen; margin-top: 1px; margin-bottom: 1px\"></hr>"
   ]
  },
  {
   "cell_type": "markdown",
   "id": "c6823be4-cbf9-4aaf-b163-4ad712580386",
   "metadata": {},
   "source": [
    "Scaling pertinent numerical columns that need to be scaled before modeling"
   ]
  },
  {
   "cell_type": "code",
   "execution_count": 27,
   "id": "ab0bcf61-3f7a-4536-8a91-0e9207ed49a0",
   "metadata": {},
   "outputs": [],
   "source": [
    "# returns scaled data for select columns\n",
    "scaled_train, scaled_validate, scaled_test = wrangle.scale_zillow(train, validate, test)"
   ]
  },
  {
   "cell_type": "code",
   "execution_count": 28,
   "id": "1e7d2cac-1acc-49b1-8c04-a4f23c8b00e1",
   "metadata": {},
   "outputs": [
    {
     "data": {
      "text/html": [
       "<div>\n",
       "<style scoped>\n",
       "    .dataframe tbody tr th:only-of-type {\n",
       "        vertical-align: middle;\n",
       "    }\n",
       "\n",
       "    .dataframe tbody tr th {\n",
       "        vertical-align: top;\n",
       "    }\n",
       "\n",
       "    .dataframe thead th {\n",
       "        text-align: right;\n",
       "    }\n",
       "</style>\n",
       "<table border=\"1\" class=\"dataframe\">\n",
       "  <thead>\n",
       "    <tr style=\"text-align: right;\">\n",
       "      <th></th>\n",
       "      <th>parcelid</th>\n",
       "      <th>logerror</th>\n",
       "      <th>transactiondate</th>\n",
       "      <th>bathroomcnt</th>\n",
       "      <th>bedroomcnt</th>\n",
       "      <th>calculatedfinishedsquarefeet</th>\n",
       "      <th>fips</th>\n",
       "      <th>latitude</th>\n",
       "      <th>longitude</th>\n",
       "      <th>lotsizesquarefeet</th>\n",
       "      <th>...</th>\n",
       "      <th>rawcensustractandblock</th>\n",
       "      <th>regionidcity</th>\n",
       "      <th>regionidzip</th>\n",
       "      <th>yearbuilt</th>\n",
       "      <th>structuretaxvaluedollarcnt</th>\n",
       "      <th>taxvaluedollarcnt</th>\n",
       "      <th>landtaxvaluedollarcnt</th>\n",
       "      <th>taxamount</th>\n",
       "      <th>censustractandblock</th>\n",
       "      <th>county</th>\n",
       "    </tr>\n",
       "  </thead>\n",
       "  <tbody>\n",
       "    <tr>\n",
       "      <th>33328</th>\n",
       "      <td>14232282</td>\n",
       "      <td>-1.119136</td>\n",
       "      <td>2017-06-26</td>\n",
       "      <td>1.0</td>\n",
       "      <td>1.0</td>\n",
       "      <td>1.065020</td>\n",
       "      <td>6059</td>\n",
       "      <td>33797462.0</td>\n",
       "      <td>-117771172.0</td>\n",
       "      <td>-0.586280</td>\n",
       "      <td>...</td>\n",
       "      <td>6.059022e+07</td>\n",
       "      <td>33252</td>\n",
       "      <td>97067</td>\n",
       "      <td>1976</td>\n",
       "      <td>0.692638</td>\n",
       "      <td>1.132692</td>\n",
       "      <td>1.171637</td>\n",
       "      <td>0.960421</td>\n",
       "      <td>60590219172023</td>\n",
       "      <td>6059</td>\n",
       "    </tr>\n",
       "    <tr>\n",
       "      <th>43265</th>\n",
       "      <td>11476490</td>\n",
       "      <td>0.540171</td>\n",
       "      <td>2017-08-08</td>\n",
       "      <td>-2.0</td>\n",
       "      <td>-1.0</td>\n",
       "      <td>-0.439532</td>\n",
       "      <td>6037</td>\n",
       "      <td>33922895.0</td>\n",
       "      <td>-118417747.0</td>\n",
       "      <td>0.277375</td>\n",
       "      <td>...</td>\n",
       "      <td>6.037620e+07</td>\n",
       "      <td>55753</td>\n",
       "      <td>96103</td>\n",
       "      <td>1930</td>\n",
       "      <td>-0.175446</td>\n",
       "      <td>-0.264928</td>\n",
       "      <td>-0.157896</td>\n",
       "      <td>-0.375593</td>\n",
       "      <td>60376201023000</td>\n",
       "      <td>6037</td>\n",
       "    </tr>\n",
       "    <tr>\n",
       "      <th>17338</th>\n",
       "      <td>11310900</td>\n",
       "      <td>0.862361</td>\n",
       "      <td>2017-04-07</td>\n",
       "      <td>0.0</td>\n",
       "      <td>1.0</td>\n",
       "      <td>0.013004</td>\n",
       "      <td>6037</td>\n",
       "      <td>34673162.0</td>\n",
       "      <td>-118110949.0</td>\n",
       "      <td>0.266297</td>\n",
       "      <td>...</td>\n",
       "      <td>6.037901e+07</td>\n",
       "      <td>5534</td>\n",
       "      <td>97318</td>\n",
       "      <td>1989</td>\n",
       "      <td>0.212672</td>\n",
       "      <td>-0.433015</td>\n",
       "      <td>-0.508576</td>\n",
       "      <td>-0.300887</td>\n",
       "      <td>60379005042028</td>\n",
       "      <td>6037</td>\n",
       "    </tr>\n",
       "    <tr>\n",
       "      <th>17186</th>\n",
       "      <td>14215888</td>\n",
       "      <td>0.436501</td>\n",
       "      <td>2017-04-10</td>\n",
       "      <td>1.0</td>\n",
       "      <td>1.0</td>\n",
       "      <td>1.005202</td>\n",
       "      <td>6059</td>\n",
       "      <td>33844585.0</td>\n",
       "      <td>-117791456.0</td>\n",
       "      <td>1.101406</td>\n",
       "      <td>...</td>\n",
       "      <td>6.059022e+07</td>\n",
       "      <td>16764</td>\n",
       "      <td>97026</td>\n",
       "      <td>1976</td>\n",
       "      <td>0.689125</td>\n",
       "      <td>1.319841</td>\n",
       "      <td>1.396056</td>\n",
       "      <td>1.137003</td>\n",
       "      <td>60590219151022</td>\n",
       "      <td>6059</td>\n",
       "    </tr>\n",
       "    <tr>\n",
       "      <th>42808</th>\n",
       "      <td>17219739</td>\n",
       "      <td>-0.318161</td>\n",
       "      <td>2017-07-31</td>\n",
       "      <td>2.0</td>\n",
       "      <td>1.0</td>\n",
       "      <td>2.133940</td>\n",
       "      <td>6111</td>\n",
       "      <td>34224696.0</td>\n",
       "      <td>-118843259.0</td>\n",
       "      <td>0.518108</td>\n",
       "      <td>...</td>\n",
       "      <td>6.111008e+07</td>\n",
       "      <td>34278</td>\n",
       "      <td>96385</td>\n",
       "      <td>1982</td>\n",
       "      <td>2.456981</td>\n",
       "      <td>1.298931</td>\n",
       "      <td>0.686339</td>\n",
       "      <td>1.063754</td>\n",
       "      <td>61110075081000</td>\n",
       "      <td>6111</td>\n",
       "    </tr>\n",
       "    <tr>\n",
       "      <th>...</th>\n",
       "      <td>...</td>\n",
       "      <td>...</td>\n",
       "      <td>...</td>\n",
       "      <td>...</td>\n",
       "      <td>...</td>\n",
       "      <td>...</td>\n",
       "      <td>...</td>\n",
       "      <td>...</td>\n",
       "      <td>...</td>\n",
       "      <td>...</td>\n",
       "      <td>...</td>\n",
       "      <td>...</td>\n",
       "      <td>...</td>\n",
       "      <td>...</td>\n",
       "      <td>...</td>\n",
       "      <td>...</td>\n",
       "      <td>...</td>\n",
       "      <td>...</td>\n",
       "      <td>...</td>\n",
       "      <td>...</td>\n",
       "      <td>...</td>\n",
       "    </tr>\n",
       "    <tr>\n",
       "      <th>22104</th>\n",
       "      <td>13870707</td>\n",
       "      <td>0.029799</td>\n",
       "      <td>2017-05-05</td>\n",
       "      <td>2.0</td>\n",
       "      <td>2.0</td>\n",
       "      <td>0.457737</td>\n",
       "      <td>6059</td>\n",
       "      <td>33865943.0</td>\n",
       "      <td>-117950803.0</td>\n",
       "      <td>-0.201108</td>\n",
       "      <td>...</td>\n",
       "      <td>6.059002e+07</td>\n",
       "      <td>24812</td>\n",
       "      <td>97041</td>\n",
       "      <td>1955</td>\n",
       "      <td>-0.195774</td>\n",
       "      <td>0.174788</td>\n",
       "      <td>0.374066</td>\n",
       "      <td>0.107196</td>\n",
       "      <td>60590019021007</td>\n",
       "      <td>6059</td>\n",
       "    </tr>\n",
       "    <tr>\n",
       "      <th>39817</th>\n",
       "      <td>12294024</td>\n",
       "      <td>1.199022</td>\n",
       "      <td>2017-07-20</td>\n",
       "      <td>-2.0</td>\n",
       "      <td>-1.0</td>\n",
       "      <td>-0.923277</td>\n",
       "      <td>6037</td>\n",
       "      <td>33928420.0</td>\n",
       "      <td>-118193965.0</td>\n",
       "      <td>-0.214742</td>\n",
       "      <td>...</td>\n",
       "      <td>6.037540e+07</td>\n",
       "      <td>32616</td>\n",
       "      <td>96113</td>\n",
       "      <td>1948</td>\n",
       "      <td>-0.932112</td>\n",
       "      <td>-0.870475</td>\n",
       "      <td>-0.586533</td>\n",
       "      <td>-0.894549</td>\n",
       "      <td>60375401021005</td>\n",
       "      <td>6037</td>\n",
       "    </tr>\n",
       "    <tr>\n",
       "      <th>3746</th>\n",
       "      <td>11101113</td>\n",
       "      <td>-0.305284</td>\n",
       "      <td>2017-01-25</td>\n",
       "      <td>0.0</td>\n",
       "      <td>1.0</td>\n",
       "      <td>0.414824</td>\n",
       "      <td>6037</td>\n",
       "      <td>34225139.0</td>\n",
       "      <td>-118542002.0</td>\n",
       "      <td>0.051129</td>\n",
       "      <td>...</td>\n",
       "      <td>6.037115e+07</td>\n",
       "      <td>12447</td>\n",
       "      <td>96354</td>\n",
       "      <td>1975</td>\n",
       "      <td>0.139053</td>\n",
       "      <td>-0.321412</td>\n",
       "      <td>-0.347042</td>\n",
       "      <td>-0.354750</td>\n",
       "      <td>60371154041006</td>\n",
       "      <td>6037</td>\n",
       "    </tr>\n",
       "    <tr>\n",
       "      <th>14997</th>\n",
       "      <td>17108256</td>\n",
       "      <td>-0.420464</td>\n",
       "      <td>2017-04-03</td>\n",
       "      <td>0.0</td>\n",
       "      <td>0.0</td>\n",
       "      <td>-0.088427</td>\n",
       "      <td>6111</td>\n",
       "      <td>34277208.0</td>\n",
       "      <td>-119155953.0</td>\n",
       "      <td>-0.768641</td>\n",
       "      <td>...</td>\n",
       "      <td>6.111001e+07</td>\n",
       "      <td>34543</td>\n",
       "      <td>97084</td>\n",
       "      <td>1996</td>\n",
       "      <td>0.522502</td>\n",
       "      <td>0.495171</td>\n",
       "      <td>0.477692</td>\n",
       "      <td>0.283530</td>\n",
       "      <td>61110013013024</td>\n",
       "      <td>6111</td>\n",
       "    </tr>\n",
       "    <tr>\n",
       "      <th>32959</th>\n",
       "      <td>12226935</td>\n",
       "      <td>-3.749638</td>\n",
       "      <td>2017-06-20</td>\n",
       "      <td>-2.0</td>\n",
       "      <td>-1.0</td>\n",
       "      <td>-0.759428</td>\n",
       "      <td>6037</td>\n",
       "      <td>33939627.0</td>\n",
       "      <td>-118289277.0</td>\n",
       "      <td>-0.723903</td>\n",
       "      <td>...</td>\n",
       "      <td>6.037241e+07</td>\n",
       "      <td>12447</td>\n",
       "      <td>96025</td>\n",
       "      <td>1925</td>\n",
       "      <td>-0.459255</td>\n",
       "      <td>-0.667890</td>\n",
       "      <td>-0.528242</td>\n",
       "      <td>-0.772971</td>\n",
       "      <td>60372412011006</td>\n",
       "      <td>6037</td>\n",
       "    </tr>\n",
       "  </tbody>\n",
       "</table>\n",
       "<p>19908 rows × 21 columns</p>\n",
       "</div>"
      ],
      "text/plain": [
       "       parcelid  logerror transactiondate  bathroomcnt  bedroomcnt  \\\n",
       "33328  14232282 -1.119136      2017-06-26          1.0         1.0   \n",
       "43265  11476490  0.540171      2017-08-08         -2.0        -1.0   \n",
       "17338  11310900  0.862361      2017-04-07          0.0         1.0   \n",
       "17186  14215888  0.436501      2017-04-10          1.0         1.0   \n",
       "42808  17219739 -0.318161      2017-07-31          2.0         1.0   \n",
       "...         ...       ...             ...          ...         ...   \n",
       "22104  13870707  0.029799      2017-05-05          2.0         2.0   \n",
       "39817  12294024  1.199022      2017-07-20         -2.0        -1.0   \n",
       "3746   11101113 -0.305284      2017-01-25          0.0         1.0   \n",
       "14997  17108256 -0.420464      2017-04-03          0.0         0.0   \n",
       "32959  12226935 -3.749638      2017-06-20         -2.0        -1.0   \n",
       "\n",
       "       calculatedfinishedsquarefeet  fips    latitude    longitude  \\\n",
       "33328                      1.065020  6059  33797462.0 -117771172.0   \n",
       "43265                     -0.439532  6037  33922895.0 -118417747.0   \n",
       "17338                      0.013004  6037  34673162.0 -118110949.0   \n",
       "17186                      1.005202  6059  33844585.0 -117791456.0   \n",
       "42808                      2.133940  6111  34224696.0 -118843259.0   \n",
       "...                             ...   ...         ...          ...   \n",
       "22104                      0.457737  6059  33865943.0 -117950803.0   \n",
       "39817                     -0.923277  6037  33928420.0 -118193965.0   \n",
       "3746                       0.414824  6037  34225139.0 -118542002.0   \n",
       "14997                     -0.088427  6111  34277208.0 -119155953.0   \n",
       "32959                     -0.759428  6037  33939627.0 -118289277.0   \n",
       "\n",
       "       lotsizesquarefeet  ... rawcensustractandblock  regionidcity  \\\n",
       "33328          -0.586280  ...           6.059022e+07         33252   \n",
       "43265           0.277375  ...           6.037620e+07         55753   \n",
       "17338           0.266297  ...           6.037901e+07          5534   \n",
       "17186           1.101406  ...           6.059022e+07         16764   \n",
       "42808           0.518108  ...           6.111008e+07         34278   \n",
       "...                  ...  ...                    ...           ...   \n",
       "22104          -0.201108  ...           6.059002e+07         24812   \n",
       "39817          -0.214742  ...           6.037540e+07         32616   \n",
       "3746            0.051129  ...           6.037115e+07         12447   \n",
       "14997          -0.768641  ...           6.111001e+07         34543   \n",
       "32959          -0.723903  ...           6.037241e+07         12447   \n",
       "\n",
       "       regionidzip  yearbuilt  structuretaxvaluedollarcnt  taxvaluedollarcnt  \\\n",
       "33328        97067       1976                    0.692638           1.132692   \n",
       "43265        96103       1930                   -0.175446          -0.264928   \n",
       "17338        97318       1989                    0.212672          -0.433015   \n",
       "17186        97026       1976                    0.689125           1.319841   \n",
       "42808        96385       1982                    2.456981           1.298931   \n",
       "...            ...        ...                         ...                ...   \n",
       "22104        97041       1955                   -0.195774           0.174788   \n",
       "39817        96113       1948                   -0.932112          -0.870475   \n",
       "3746         96354       1975                    0.139053          -0.321412   \n",
       "14997        97084       1996                    0.522502           0.495171   \n",
       "32959        96025       1925                   -0.459255          -0.667890   \n",
       "\n",
       "       landtaxvaluedollarcnt  taxamount  censustractandblock  county  \n",
       "33328               1.171637   0.960421       60590219172023    6059  \n",
       "43265              -0.157896  -0.375593       60376201023000    6037  \n",
       "17338              -0.508576  -0.300887       60379005042028    6037  \n",
       "17186               1.396056   1.137003       60590219151022    6059  \n",
       "42808               0.686339   1.063754       61110075081000    6111  \n",
       "...                      ...        ...                  ...     ...  \n",
       "22104               0.374066   0.107196       60590019021007    6059  \n",
       "39817              -0.586533  -0.894549       60375401021005    6037  \n",
       "3746               -0.347042  -0.354750       60371154041006    6037  \n",
       "14997               0.477692   0.283530       61110013013024    6111  \n",
       "32959              -0.528242  -0.772971       60372412011006    6037  \n",
       "\n",
       "[19908 rows x 21 columns]"
      ]
     },
     "execution_count": 28,
     "metadata": {},
     "output_type": "execute_result"
    }
   ],
   "source": [
    "scaled_train"
   ]
  },
  {
   "cell_type": "code",
   "execution_count": null,
   "id": "bc1889ab-3b2b-454b-b732-85054821c797",
   "metadata": {},
   "outputs": [],
   "source": []
  },
  {
   "cell_type": "markdown",
   "id": "7cf881e6-d1cd-4396-adea-8efb8a765a78",
   "metadata": {
    "tags": []
   },
   "source": [
    "### Clustering Exploration using KMeans\n",
    "- I've used the Kmeans clustering machine learning model to make clusters that we hope will predict the logerror\n",
    "- I've tried visualizing the inertia to determine a good number for k\n",
    "- I've tried visualizing the clusters using scatterplots\n"
   ]
  },
  {
   "cell_type": "code",
   "execution_count": 29,
   "id": "47641960-3d4b-4ccb-a29b-6329e896eebf",
   "metadata": {},
   "outputs": [],
   "source": [
    "# Using a seed to generate a random number that can be replicated for reproducibility\n",
    "np.random.seed(42)"
   ]
  },
  {
   "cell_type": "code",
   "execution_count": 30,
   "id": "d6d7d734-5417-4a5f-ba2d-ceefe55a52e3",
   "metadata": {},
   "outputs": [
    {
     "data": {
      "text/plain": [
       "array([0, 0, 0, ..., 0, 0, 4], dtype=int32)"
      ]
     },
     "execution_count": 30,
     "metadata": {},
     "output_type": "execute_result"
    }
   ],
   "source": [
    "X = scaled_train[['logerror', 'bedroomcnt']]\n",
    "\n",
    "kmeans = KMeans(n_clusters=5)\n",
    "kmeans.fit(X)\n",
    "\n",
    "kmeans.predict(X)"
   ]
  },
  {
   "cell_type": "code",
   "execution_count": 31,
   "id": "f72b95eb-cba1-4d66-a6ac-e77e23955510",
   "metadata": {
    "tags": []
   },
   "outputs": [],
   "source": [
    "scaled_train['bedroom_cluster'] = kmeans.predict(X)"
   ]
  },
  {
   "cell_type": "code",
   "execution_count": 32,
   "id": "bf7f518f-dff6-45c8-8322-83a4c2b79318",
   "metadata": {
    "tags": []
   },
   "outputs": [
    {
     "data": {
      "image/png": "[encoded data removed]",
      "text/plain": [
       "<Figure size 864x576 with 1 Axes>"
      ]
     },
     "metadata": {},
     "output_type": "display_data"
    }
   ],
   "source": [
    "with plt.style.context('seaborn-whitegrid'):\n",
    "    plt.figure(figsize=(12, 8))\n",
    "    pd.Series({k: KMeans(k).fit(X).inertia_ for k in range(2, 12)}).plot(marker='x')\n",
    "    plt.xticks(range(2, 12))\n",
    "    plt.xlabel('k')\n",
    "    plt.ylabel('inertia')\n",
    "    plt.title('Change in inertia as k increases')\n"
   ]
  },
  {
   "cell_type": "code",
   "execution_count": 33,
   "id": "2580f0d4-7e1d-4f48-9263-e7b583bfe0ab",
   "metadata": {},
   "outputs": [
    {
     "data": {
      "text/plain": [
       "<seaborn.axisgrid.FacetGrid at 0x7f7a01e99100>"
      ]
     },
     "execution_count": 33,
     "metadata": {},
     "output_type": "execute_result"
    },
    {
     "data": {
      "image/png": "[encoded data removed]",
      "text/plain": [
       "<Figure size 451.375x360 with 1 Axes>"
      ]
     },
     "metadata": {
      "needs_background": "light"
     },
     "output_type": "display_data"
    }
   ],
   "source": [
    "sns.relplot(data=scaled_train, x='logerror', y='bedroomcnt', hue='bedroom_cluster')"
   ]
  },
  {
   "cell_type": "code",
   "execution_count": 34,
   "id": "aada1da5-a792-4796-8902-5eedd2f89d83",
   "metadata": {},
   "outputs": [
    {
     "data": {
      "text/plain": [
       "array([[ 3.88336712e-02,  1.93327342e-01],\n",
       "       [ 2.92916725e+01,  1.58730159e-02],\n",
       "       [ 5.33018961e+00,  1.09343936e-02],\n",
       "       [-3.84384499e+01,  7.69230769e-02],\n",
       "       [-3.78512566e+00, -2.15264188e-01]])"
      ]
     },
     "execution_count": 34,
     "metadata": {},
     "output_type": "execute_result"
    }
   ],
   "source": [
    "kmeans.cluster_centers_"
   ]
  },
  {
   "cell_type": "code",
   "execution_count": 35,
   "id": "441fd9b2-64e8-4308-b159-2d36b40d3a4d",
   "metadata": {},
   "outputs": [
    {
     "data": {
      "text/html": [
       "<div>\n",
       "<style scoped>\n",
       "    .dataframe tbody tr th:only-of-type {\n",
       "        vertical-align: middle;\n",
       "    }\n",
       "\n",
       "    .dataframe tbody tr th {\n",
       "        vertical-align: top;\n",
       "    }\n",
       "\n",
       "    .dataframe thead th {\n",
       "        text-align: right;\n",
       "    }\n",
       "</style>\n",
       "<table border=\"1\" class=\"dataframe\">\n",
       "  <thead>\n",
       "    <tr style=\"text-align: right;\">\n",
       "      <th></th>\n",
       "      <th>logerror</th>\n",
       "      <th>bedroomcnt</th>\n",
       "    </tr>\n",
       "  </thead>\n",
       "  <tbody>\n",
       "    <tr>\n",
       "      <th>0</th>\n",
       "      <td>0.038834</td>\n",
       "      <td>0.193327</td>\n",
       "    </tr>\n",
       "    <tr>\n",
       "      <th>1</th>\n",
       "      <td>29.291673</td>\n",
       "      <td>0.015873</td>\n",
       "    </tr>\n",
       "    <tr>\n",
       "      <th>2</th>\n",
       "      <td>5.330190</td>\n",
       "      <td>0.010934</td>\n",
       "    </tr>\n",
       "    <tr>\n",
       "      <th>3</th>\n",
       "      <td>-38.438450</td>\n",
       "      <td>0.076923</td>\n",
       "    </tr>\n",
       "    <tr>\n",
       "      <th>4</th>\n",
       "      <td>-3.785126</td>\n",
       "      <td>-0.215264</td>\n",
       "    </tr>\n",
       "  </tbody>\n",
       "</table>\n",
       "</div>"
      ],
      "text/plain": [
       "    logerror  bedroomcnt\n",
       "0   0.038834    0.193327\n",
       "1  29.291673    0.015873\n",
       "2   5.330190    0.010934\n",
       "3 -38.438450    0.076923\n",
       "4  -3.785126   -0.215264"
      ]
     },
     "execution_count": 35,
     "metadata": {},
     "output_type": "execute_result"
    }
   ],
   "source": [
    "centroids = pd.DataFrame(kmeans.cluster_centers_, columns=X.columns)\n",
    "centroids"
   ]
  },
  {
   "cell_type": "code",
   "execution_count": null,
   "id": "717d78b9-3fd6-420c-9d8a-a9974786cded",
   "metadata": {},
   "outputs": [],
   "source": []
  },
  {
   "cell_type": "code",
   "execution_count": 36,
   "id": "39da154f-4249-442f-98dc-ca9b05aac3ce",
   "metadata": {},
   "outputs": [
    {
     "data": {
      "text/plain": [
       "array([0, 2, 2, ..., 2, 2, 2], dtype=int32)"
      ]
     },
     "execution_count": 36,
     "metadata": {},
     "output_type": "execute_result"
    }
   ],
   "source": [
    "X = scaled_train[['logerror', 'bathroomcnt']]\n",
    "\n",
    "kmeans = KMeans(n_clusters=5)\n",
    "kmeans.fit(X)\n",
    "\n",
    "kmeans.predict(X)"
   ]
  },
  {
   "cell_type": "code",
   "execution_count": 37,
   "id": "b9652e9b-4389-40f1-ab27-a8fe3c4f8f4a",
   "metadata": {},
   "outputs": [],
   "source": [
    "scaled_train['bathroom_cluster'] = kmeans.predict(X)"
   ]
  },
  {
   "cell_type": "code",
   "execution_count": 38,
   "id": "61bdcb6b-1b65-433a-bed7-74e382582ae8",
   "metadata": {
    "tags": []
   },
   "outputs": [
    {
     "data": {
      "image/png": "[encoded data removed]",
      "text/plain": [
       "<Figure size 864x576 with 1 Axes>"
      ]
     },
     "metadata": {},
     "output_type": "display_data"
    }
   ],
   "source": [
    "with plt.style.context('seaborn-whitegrid'):\n",
    "    plt.figure(figsize=(12, 8))\n",
    "    pd.Series({k: KMeans(k).fit(X).inertia_ for k in range(2, 12)}).plot(marker='x')\n",
    "    plt.xticks(range(2, 12))\n",
    "    plt.xlabel('k')\n",
    "    plt.ylabel('inertia')\n",
    "    plt.title('Change in inertia as k increases')\n"
   ]
  },
  {
   "cell_type": "code",
   "execution_count": 39,
   "id": "22ff779a-8c52-45d6-8720-3b33003b331c",
   "metadata": {},
   "outputs": [
    {
     "data": {
      "text/plain": [
       "<seaborn.axisgrid.FacetGrid at 0x7f79e9220130>"
      ]
     },
     "execution_count": 39,
     "metadata": {},
     "output_type": "execute_result"
    },
    {
     "data": {
      "image/png": "[encoded data removed]",
      "text/plain": [
       "<Figure size 455.25x360 with 1 Axes>"
      ]
     },
     "metadata": {
      "needs_background": "light"
     },
     "output_type": "display_data"
    }
   ],
   "source": [
    "sns.relplot(data=scaled_train, x='logerror', y='bathroomcnt', hue='bathroom_cluster')"
   ]
  },
  {
   "cell_type": "code",
   "execution_count": 40,
   "id": "ac907c76-2209-48a8-a259-e44c437a0ffb",
   "metadata": {},
   "outputs": [
    {
     "data": {
      "text/plain": [
       "array([[-7.85152896e-04,  1.86806412e+00],\n",
       "       [ 5.35805289e+00, -4.25252525e-01],\n",
       "       [-1.90413317e-01, -6.19312552e-01],\n",
       "       [-1.95813116e+01, -1.28070175e+00],\n",
       "       [ 2.92916725e+01, -2.53968254e-01]])"
      ]
     },
     "execution_count": 40,
     "metadata": {},
     "output_type": "execute_result"
    }
   ],
   "source": [
    "kmeans.cluster_centers_"
   ]
  },
  {
   "cell_type": "code",
   "execution_count": null,
   "id": "26750fc0-87aa-4cb4-bbde-d864595939be",
   "metadata": {},
   "outputs": [],
   "source": []
  },
  {
   "cell_type": "code",
   "execution_count": 41,
   "id": "a731ce8a-f47f-432e-988b-fa88e7f85b6e",
   "metadata": {},
   "outputs": [
    {
     "data": {
      "text/plain": [
       "array([0, 0, 0, ..., 0, 0, 4], dtype=int32)"
      ]
     },
     "execution_count": 41,
     "metadata": {},
     "output_type": "execute_result"
    }
   ],
   "source": [
    "X = scaled_train[['logerror', 'calculatedfinishedsquarefeet']]\n",
    "\n",
    "kmeans = KMeans(n_clusters=5)\n",
    "kmeans.fit(X)\n",
    "\n",
    "kmeans.predict(X)"
   ]
  },
  {
   "cell_type": "code",
   "execution_count": 42,
   "id": "93fa608a-6c58-44b7-a4d3-7d58419ee4ce",
   "metadata": {},
   "outputs": [],
   "source": [
    "scaled_train['homearea_cluster'] = kmeans.predict(X)"
   ]
  },
  {
   "cell_type": "code",
   "execution_count": 43,
   "id": "db544fa4-9b40-4d81-b8a3-eca525944641",
   "metadata": {
    "tags": []
   },
   "outputs": [
    {
     "data": {
      "image/png": "[encoded data removed]",
      "text/plain": [
       "<Figure size 864x576 with 1 Axes>"
      ]
     },
     "metadata": {},
     "output_type": "display_data"
    }
   ],
   "source": [
    "with plt.style.context('seaborn-whitegrid'):\n",
    "    plt.figure(figsize=(12, 8))\n",
    "    pd.Series({k: KMeans(k).fit(X).inertia_ for k in range(2, 12)}).plot(marker='x')\n",
    "    plt.xticks(range(2, 12))\n",
    "    plt.xlabel('k')\n",
    "    plt.ylabel('inertia')\n",
    "    plt.title('Change in inertia as k increases')\n"
   ]
  },
  {
   "cell_type": "code",
   "execution_count": 44,
   "id": "a8ab69fe-db53-4f14-913b-dc412e72a057",
   "metadata": {},
   "outputs": [
    {
     "data": {
      "text/plain": [
       "<seaborn.axisgrid.FacetGrid at 0x7f79f4f718b0>"
      ]
     },
     "execution_count": 44,
     "metadata": {},
     "output_type": "execute_result"
    },
    {
     "data": {
      "image/png": "[encoded data removed]",
      "text/plain": [
       "<Figure size 457.5x360 with 1 Axes>"
      ]
     },
     "metadata": {
      "needs_background": "light"
     },
     "output_type": "display_data"
    }
   ],
   "source": [
    "sns.relplot(data=scaled_train, x='logerror', y='calculatedfinishedsquarefeet', hue='homearea_cluster')"
   ]
  },
  {
   "cell_type": "code",
   "execution_count": 45,
   "id": "63a9a833-46e6-4dfc-a5e4-302f278702ed",
   "metadata": {},
   "outputs": [
    {
     "data": {
      "text/plain": [
       "array([[ 3.44226791e-02,  1.70875738e-01],\n",
       "       [ 2.92916725e+01, -4.12822259e-05],\n",
       "       [ 5.31725033e+00, -4.05204647e-02],\n",
       "       [-3.84384499e+01,  3.30099030e-03],\n",
       "       [-3.85457663e+00, -5.15175829e-02]])"
      ]
     },
     "execution_count": 45,
     "metadata": {},
     "output_type": "execute_result"
    }
   ],
   "source": [
    "kmeans.cluster_centers_"
   ]
  },
  {
   "cell_type": "code",
   "execution_count": null,
   "id": "6556f3e0-2738-4931-9941-428b1a954c45",
   "metadata": {},
   "outputs": [],
   "source": []
  },
  {
   "cell_type": "code",
   "execution_count": 46,
   "id": "396aff76-59a6-4c20-8882-f8fe7133c90d",
   "metadata": {},
   "outputs": [
    {
     "data": {
      "text/plain": [
       "array([0, 0, 0, ..., 0, 0, 2], dtype=int32)"
      ]
     },
     "execution_count": 46,
     "metadata": {},
     "output_type": "execute_result"
    }
   ],
   "source": [
    "X = scaled_train[['logerror', 'lotsizesquarefeet']]\n",
    "\n",
    "kmeans = KMeans(n_clusters=5)\n",
    "kmeans.fit(X)\n",
    "\n",
    "kmeans.predict(X)"
   ]
  },
  {
   "cell_type": "code",
   "execution_count": 47,
   "id": "d98b95e9-55eb-4f09-80c0-4ddcc0b7f680",
   "metadata": {},
   "outputs": [],
   "source": [
    "scaled_train['lotarea_cluster'] = kmeans.predict(X)"
   ]
  },
  {
   "cell_type": "code",
   "execution_count": 48,
   "id": "b70f7aa6-a489-4fd9-a63d-fe8306a0e23a",
   "metadata": {},
   "outputs": [
    {
     "data": {
      "image/png": "[encoded data removed]",
      "text/plain": [
       "<Figure size 864x576 with 1 Axes>"
      ]
     },
     "metadata": {},
     "output_type": "display_data"
    }
   ],
   "source": [
    "with plt.style.context('seaborn-whitegrid'):\n",
    "    plt.figure(figsize=(12, 8))\n",
    "    pd.Series({k: KMeans(k).fit(X).inertia_ for k in range(2, 12)}).plot(marker='x')\n",
    "    plt.xticks(range(2, 12))\n",
    "    plt.xlabel('k')\n",
    "    plt.ylabel('inertia')\n",
    "    plt.title('Change in inertia as k increases')\n"
   ]
  },
  {
   "cell_type": "code",
   "execution_count": 49,
   "id": "0a093237-738a-4620-873d-47f0abda4be0",
   "metadata": {},
   "outputs": [
    {
     "data": {
      "text/plain": [
       "<seaborn.axisgrid.FacetGrid at 0x7f7a01d239a0>"
      ]
     },
     "execution_count": 49,
     "metadata": {},
     "output_type": "execute_result"
    },
    {
     "data": {
      "image/png": "[encoded data removed]",
      "text/plain": [
       "<Figure size 442.125x360 with 1 Axes>"
      ]
     },
     "metadata": {
      "needs_background": "light"
     },
     "output_type": "display_data"
    }
   ],
   "source": [
    "sns.relplot(data=scaled_train, x='logerror', y='lotsizesquarefeet', hue='lotarea_cluster')"
   ]
  },
  {
   "cell_type": "code",
   "execution_count": 50,
   "id": "aaf92e22-84d0-483d-93c7-325444b2ddb0",
   "metadata": {},
   "outputs": [
    {
     "data": {
      "text/plain": [
       "array([[ 4.33119414e-02,  6.15994243e-02],\n",
       "       [ 5.33309098e+00,  7.49774773e-02],\n",
       "       [-3.71731328e+00,  1.06639033e-01],\n",
       "       [ 2.92916725e+01, -1.94101217e-02],\n",
       "       [-3.84384499e+01, -1.41096654e-01]])"
      ]
     },
     "execution_count": 50,
     "metadata": {},
     "output_type": "execute_result"
    }
   ],
   "source": [
    "kmeans.cluster_centers_"
   ]
  },
  {
   "cell_type": "code",
   "execution_count": null,
   "id": "0bce3229-a443-426b-aadd-20d5c6110747",
   "metadata": {},
   "outputs": [],
   "source": []
  },
  {
   "cell_type": "code",
   "execution_count": 51,
   "id": "6b1f6136-c36c-48d9-af48-25b74d8891e2",
   "metadata": {},
   "outputs": [
    {
     "data": {
      "text/plain": [
       "array([3, 0, 0, ..., 0, 0, 3], dtype=int32)"
      ]
     },
     "execution_count": 51,
     "metadata": {},
     "output_type": "execute_result"
    }
   ],
   "source": [
    "X = scaled_train[['logerror', 'structuretaxvaluedollarcnt']]\n",
    "\n",
    "kmeans = KMeans(n_clusters=5)\n",
    "kmeans.fit(X)\n",
    "\n",
    "kmeans.predict(X)"
   ]
  },
  {
   "cell_type": "code",
   "execution_count": 52,
   "id": "68de0536-a324-4c3a-8087-4f0a8ad8dbb7",
   "metadata": {},
   "outputs": [],
   "source": [
    "scaled_train['hometax_cluster'] = kmeans.predict(X)"
   ]
  },
  {
   "cell_type": "code",
   "execution_count": 53,
   "id": "023c874c-8015-4a4b-8ed3-d0fb0b8c6774",
   "metadata": {
    "tags": []
   },
   "outputs": [
    {
     "data": {
      "image/png": "[encoded data removed]",
      "text/plain": [
       "<Figure size 864x576 with 1 Axes>"
      ]
     },
     "metadata": {},
     "output_type": "display_data"
    }
   ],
   "source": [
    "with plt.style.context('seaborn-whitegrid'):\n",
    "    plt.figure(figsize=(12, 8))\n",
    "    pd.Series({k: KMeans(k).fit(X).inertia_ for k in range(2, 12)}).plot(marker='x')\n",
    "    plt.xticks(range(2, 12))\n",
    "    plt.xlabel('k')\n",
    "    plt.ylabel('inertia')\n",
    "    plt.title('Change in inertia as k increases')\n"
   ]
  },
  {
   "cell_type": "code",
   "execution_count": 54,
   "id": "eee59bf1-3c18-461c-9714-92741834c5ea",
   "metadata": {},
   "outputs": [
    {
     "data": {
      "text/plain": [
       "<seaborn.axisgrid.FacetGrid at 0x7f79e04aab20>"
      ]
     },
     "execution_count": 54,
     "metadata": {},
     "output_type": "execute_result"
    },
    {
     "data": {
      "image/png": "[encoded data removed]",
      "text/plain": [
       "<Figure size 451.125x360 with 1 Axes>"
      ]
     },
     "metadata": {
      "needs_background": "light"
     },
     "output_type": "display_data"
    }
   ],
   "source": [
    "sns.relplot(data=scaled_train, x='logerror', y='structuretaxvaluedollarcnt', hue='hometax_cluster')"
   ]
  },
  {
   "cell_type": "code",
   "execution_count": 55,
   "id": "062770a5-a72b-4395-b011-0036fbf10051",
   "metadata": {},
   "outputs": [
    {
     "data": {
      "text/plain": [
       "array([[ 1.52761051e-01,  2.19799814e-01],\n",
       "       [ 2.92916725e+01, -5.73693934e-02],\n",
       "       [-2.18826795e+01, -2.39690162e-01],\n",
       "       [-2.30091418e+00,  2.58442465e-02],\n",
       "       [ 5.44031819e+00, -1.30637602e-01]])"
      ]
     },
     "execution_count": 55,
     "metadata": {},
     "output_type": "execute_result"
    }
   ],
   "source": [
    "kmeans.cluster_centers_"
   ]
  },
  {
   "cell_type": "code",
   "execution_count": 56,
   "id": "4efda791-3feb-4389-b446-2609324733a9",
   "metadata": {},
   "outputs": [
    {
     "name": "stdout",
     "output_type": "stream",
     "text": [
      "<class 'pandas.core.frame.DataFrame'>\n",
      "Int64Index: 19908 entries, 33328 to 32959\n",
      "Data columns (total 26 columns):\n",
      " #   Column                        Non-Null Count  Dtype         \n",
      "---  ------                        --------------  -----         \n",
      " 0   parcelid                      19908 non-null  int64         \n",
      " 1   logerror                      19908 non-null  float64       \n",
      " 2   transactiondate               19908 non-null  datetime64[ns]\n",
      " 3   bathroomcnt                   19908 non-null  float64       \n",
      " 4   bedroomcnt                    19908 non-null  float64       \n",
      " 5   calculatedfinishedsquarefeet  19908 non-null  float64       \n",
      " 6   fips                          19908 non-null  int64         \n",
      " 7   latitude                      19908 non-null  float64       \n",
      " 8   longitude                     19908 non-null  float64       \n",
      " 9   lotsizesquarefeet             19908 non-null  float64       \n",
      " 10  propertycountylandusecode     19908 non-null  object        \n",
      " 11  rawcensustractandblock        19908 non-null  float64       \n",
      " 12  regionidcity                  19908 non-null  int64         \n",
      " 13  regionidzip                   19908 non-null  int64         \n",
      " 14  yearbuilt                     19908 non-null  int64         \n",
      " 15  structuretaxvaluedollarcnt    19908 non-null  float64       \n",
      " 16  taxvaluedollarcnt             19908 non-null  float64       \n",
      " 17  landtaxvaluedollarcnt         19908 non-null  float64       \n",
      " 18  taxamount                     19908 non-null  float64       \n",
      " 19  censustractandblock           19908 non-null  int64         \n",
      " 20  county                        19908 non-null  object        \n",
      " 21  bedroom_cluster               19908 non-null  int32         \n",
      " 22  bathroom_cluster              19908 non-null  int32         \n",
      " 23  homearea_cluster              19908 non-null  int32         \n",
      " 24  lotarea_cluster               19908 non-null  int32         \n",
      " 25  hometax_cluster               19908 non-null  int32         \n",
      "dtypes: datetime64[ns](1), float64(12), int32(5), int64(6), object(2)\n",
      "memory usage: 4.2+ MB\n"
     ]
    }
   ],
   "source": [
    "scaled_train.info()"
   ]
  },
  {
   "cell_type": "code",
   "execution_count": 57,
   "id": "e21cce7a-b9ea-40c6-90e6-5450b5969395",
   "metadata": {},
   "outputs": [
    {
     "data": {
      "text/html": [
       "<div>\n",
       "<style scoped>\n",
       "    .dataframe tbody tr th:only-of-type {\n",
       "        vertical-align: middle;\n",
       "    }\n",
       "\n",
       "    .dataframe tbody tr th {\n",
       "        vertical-align: top;\n",
       "    }\n",
       "\n",
       "    .dataframe thead th {\n",
       "        text-align: right;\n",
       "    }\n",
       "</style>\n",
       "<table border=\"1\" class=\"dataframe\">\n",
       "  <thead>\n",
       "    <tr style=\"text-align: right;\">\n",
       "      <th></th>\n",
       "      <th>count</th>\n",
       "      <th>mean</th>\n",
       "      <th>std</th>\n",
       "      <th>min</th>\n",
       "      <th>25%</th>\n",
       "      <th>50%</th>\n",
       "      <th>75%</th>\n",
       "      <th>max</th>\n",
       "    </tr>\n",
       "  </thead>\n",
       "  <tbody>\n",
       "    <tr>\n",
       "      <th>parcelid</th>\n",
       "      <td>19908.0</td>\n",
       "      <td>1.298278e+07</td>\n",
       "      <td>2.516619e+06</td>\n",
       "      <td>1.071188e+07</td>\n",
       "      <td>1.155290e+07</td>\n",
       "      <td>1.261307e+07</td>\n",
       "      <td>1.410735e+07</td>\n",
       "      <td>1.629608e+08</td>\n",
       "    </tr>\n",
       "    <tr>\n",
       "      <th>logerror</th>\n",
       "      <td>19908.0</td>\n",
       "      <td>1.773580e-01</td>\n",
       "      <td>2.752954e+00</td>\n",
       "      <td>-7.582382e+01</td>\n",
       "      <td>-4.926497e-01</td>\n",
       "      <td>7.054090e-18</td>\n",
       "      <td>5.073503e-01</td>\n",
       "      <td>5.155858e+01</td>\n",
       "    </tr>\n",
       "    <tr>\n",
       "      <th>bathroomcnt</th>\n",
       "      <td>19908.0</td>\n",
       "      <td>9.890496e-02</td>\n",
       "      <td>1.437680e+00</td>\n",
       "      <td>-4.000000e+00</td>\n",
       "      <td>0.000000e+00</td>\n",
       "      <td>0.000000e+00</td>\n",
       "      <td>1.000000e+00</td>\n",
       "      <td>5.000000e+00</td>\n",
       "    </tr>\n",
       "    <tr>\n",
       "      <th>bedroomcnt</th>\n",
       "      <td>19908.0</td>\n",
       "      <td>1.624975e-01</td>\n",
       "      <td>8.241507e-01</td>\n",
       "      <td>-3.000000e+00</td>\n",
       "      <td>0.000000e+00</td>\n",
       "      <td>0.000000e+00</td>\n",
       "      <td>1.000000e+00</td>\n",
       "      <td>2.000000e+00</td>\n",
       "    </tr>\n",
       "    <tr>\n",
       "      <th>calculatedfinishedsquarefeet</th>\n",
       "      <td>19908.0</td>\n",
       "      <td>1.484641e-01</td>\n",
       "      <td>7.685811e-01</td>\n",
       "      <td>-1.825748e+00</td>\n",
       "      <td>-4.135241e-01</td>\n",
       "      <td>0.000000e+00</td>\n",
       "      <td>5.864759e-01</td>\n",
       "      <td>2.960988e+00</td>\n",
       "    </tr>\n",
       "    <tr>\n",
       "      <th>fips</th>\n",
       "      <td>19908.0</td>\n",
       "      <td>6.049083e+03</td>\n",
       "      <td>2.094239e+01</td>\n",
       "      <td>6.037000e+03</td>\n",
       "      <td>6.037000e+03</td>\n",
       "      <td>6.037000e+03</td>\n",
       "      <td>6.059000e+03</td>\n",
       "      <td>6.111000e+03</td>\n",
       "    </tr>\n",
       "    <tr>\n",
       "      <th>latitude</th>\n",
       "      <td>19908.0</td>\n",
       "      <td>3.401717e+07</td>\n",
       "      <td>2.676663e+05</td>\n",
       "      <td>3.334128e+07</td>\n",
       "      <td>3.382694e+07</td>\n",
       "      <td>3.399828e+07</td>\n",
       "      <td>3.418507e+07</td>\n",
       "      <td>3.471832e+07</td>\n",
       "    </tr>\n",
       "    <tr>\n",
       "      <th>longitude</th>\n",
       "      <td>19908.0</td>\n",
       "      <td>-1.181875e+08</td>\n",
       "      <td>3.496213e+05</td>\n",
       "      <td>-1.194484e+08</td>\n",
       "      <td>-1.183737e+08</td>\n",
       "      <td>-1.181408e+08</td>\n",
       "      <td>-1.179403e+08</td>\n",
       "      <td>-1.175723e+08</td>\n",
       "    </tr>\n",
       "    <tr>\n",
       "      <th>lotsizesquarefeet</th>\n",
       "      <td>19908.0</td>\n",
       "      <td>6.428645e-02</td>\n",
       "      <td>9.422109e-01</td>\n",
       "      <td>-2.564977e+00</td>\n",
       "      <td>-4.797614e-01</td>\n",
       "      <td>0.000000e+00</td>\n",
       "      <td>5.202386e-01</td>\n",
       "      <td>2.989348e+00</td>\n",
       "    </tr>\n",
       "    <tr>\n",
       "      <th>rawcensustractandblock</th>\n",
       "      <td>19908.0</td>\n",
       "      <td>6.049389e+07</td>\n",
       "      <td>2.078543e+05</td>\n",
       "      <td>6.037101e+07</td>\n",
       "      <td>6.037401e+07</td>\n",
       "      <td>6.037577e+07</td>\n",
       "      <td>6.059042e+07</td>\n",
       "      <td>6.111009e+07</td>\n",
       "    </tr>\n",
       "    <tr>\n",
       "      <th>regionidcity</th>\n",
       "      <td>19908.0</td>\n",
       "      <td>3.415898e+04</td>\n",
       "      <td>5.158238e+04</td>\n",
       "      <td>3.491000e+03</td>\n",
       "      <td>1.244700e+04</td>\n",
       "      <td>2.481200e+04</td>\n",
       "      <td>4.022700e+04</td>\n",
       "      <td>3.965560e+05</td>\n",
       "    </tr>\n",
       "    <tr>\n",
       "      <th>regionidzip</th>\n",
       "      <td>19908.0</td>\n",
       "      <td>9.658094e+04</td>\n",
       "      <td>2.189265e+03</td>\n",
       "      <td>9.598200e+04</td>\n",
       "      <td>9.620600e+04</td>\n",
       "      <td>9.641500e+04</td>\n",
       "      <td>9.699800e+04</td>\n",
       "      <td>3.996750e+05</td>\n",
       "    </tr>\n",
       "    <tr>\n",
       "      <th>yearbuilt</th>\n",
       "      <td>19908.0</td>\n",
       "      <td>1.960790e+03</td>\n",
       "      <td>2.170324e+01</td>\n",
       "      <td>1.885000e+03</td>\n",
       "      <td>1.949000e+03</td>\n",
       "      <td>1.959000e+03</td>\n",
       "      <td>1.975000e+03</td>\n",
       "      <td>2.015000e+03</td>\n",
       "    </tr>\n",
       "    <tr>\n",
       "      <th>structuretaxvaluedollarcnt</th>\n",
       "      <td>19908.0</td>\n",
       "      <td>1.792298e-01</td>\n",
       "      <td>7.872728e-01</td>\n",
       "      <td>-1.047329e+00</td>\n",
       "      <td>-4.078999e-01</td>\n",
       "      <td>0.000000e+00</td>\n",
       "      <td>5.921001e-01</td>\n",
       "      <td>2.998715e+00</td>\n",
       "    </tr>\n",
       "    <tr>\n",
       "      <th>taxvaluedollarcnt</th>\n",
       "      <td>19908.0</td>\n",
       "      <td>1.016849e-01</td>\n",
       "      <td>7.079524e-01</td>\n",
       "      <td>-9.483759e-01</td>\n",
       "      <td>-4.701359e-01</td>\n",
       "      <td>0.000000e+00</td>\n",
       "      <td>5.298641e-01</td>\n",
       "      <td>2.739347e+00</td>\n",
       "    </tr>\n",
       "    <tr>\n",
       "      <th>landtaxvaluedollarcnt</th>\n",
       "      <td>19908.0</td>\n",
       "      <td>1.416750e-01</td>\n",
       "      <td>6.672458e-01</td>\n",
       "      <td>-6.606970e-01</td>\n",
       "      <td>-4.483160e-01</td>\n",
       "      <td>0.000000e+00</td>\n",
       "      <td>5.516840e-01</td>\n",
       "      <td>2.570335e+00</td>\n",
       "    </tr>\n",
       "    <tr>\n",
       "      <th>taxamount</th>\n",
       "      <td>19908.0</td>\n",
       "      <td>9.576323e-02</td>\n",
       "      <td>7.388771e-01</td>\n",
       "      <td>-1.119231e+00</td>\n",
       "      <td>-4.724217e-01</td>\n",
       "      <td>-1.250288e-16</td>\n",
       "      <td>5.275783e-01</td>\n",
       "      <td>2.765188e+00</td>\n",
       "    </tr>\n",
       "    <tr>\n",
       "      <th>censustractandblock</th>\n",
       "      <td>19908.0</td>\n",
       "      <td>6.051513e+13</td>\n",
       "      <td>3.001882e+12</td>\n",
       "      <td>6.037101e+13</td>\n",
       "      <td>6.037402e+13</td>\n",
       "      <td>6.037577e+13</td>\n",
       "      <td>6.059042e+13</td>\n",
       "      <td>4.830301e+14</td>\n",
       "    </tr>\n",
       "    <tr>\n",
       "      <th>bedroom_cluster</th>\n",
       "      <td>19908.0</td>\n",
       "      <td>3.130400e-01</td>\n",
       "      <td>9.699647e-01</td>\n",
       "      <td>0.000000e+00</td>\n",
       "      <td>0.000000e+00</td>\n",
       "      <td>0.000000e+00</td>\n",
       "      <td>0.000000e+00</td>\n",
       "      <td>4.000000e+00</td>\n",
       "    </tr>\n",
       "    <tr>\n",
       "      <th>bathroom_cluster</th>\n",
       "      <td>19908.0</td>\n",
       "      <td>1.389040e+00</td>\n",
       "      <td>9.125606e-01</td>\n",
       "      <td>0.000000e+00</td>\n",
       "      <td>0.000000e+00</td>\n",
       "      <td>2.000000e+00</td>\n",
       "      <td>2.000000e+00</td>\n",
       "      <td>4.000000e+00</td>\n",
       "    </tr>\n",
       "    <tr>\n",
       "      <th>homearea_cluster</th>\n",
       "      <td>19908.0</td>\n",
       "      <td>3.073136e-01</td>\n",
       "      <td>9.594128e-01</td>\n",
       "      <td>0.000000e+00</td>\n",
       "      <td>0.000000e+00</td>\n",
       "      <td>0.000000e+00</td>\n",
       "      <td>0.000000e+00</td>\n",
       "      <td>4.000000e+00</td>\n",
       "    </tr>\n",
       "    <tr>\n",
       "      <th>lotarea_cluster</th>\n",
       "      <td>19908.0</td>\n",
       "      <td>1.681234e-01</td>\n",
       "      <td>5.216126e-01</td>\n",
       "      <td>0.000000e+00</td>\n",
       "      <td>0.000000e+00</td>\n",
       "      <td>0.000000e+00</td>\n",
       "      <td>0.000000e+00</td>\n",
       "      <td>4.000000e+00</td>\n",
       "    </tr>\n",
       "    <tr>\n",
       "      <th>hometax_cluster</th>\n",
       "      <td>19908.0</td>\n",
       "      <td>5.368696e-01</td>\n",
       "      <td>1.226741e+00</td>\n",
       "      <td>0.000000e+00</td>\n",
       "      <td>0.000000e+00</td>\n",
       "      <td>0.000000e+00</td>\n",
       "      <td>0.000000e+00</td>\n",
       "      <td>4.000000e+00</td>\n",
       "    </tr>\n",
       "  </tbody>\n",
       "</table>\n",
       "</div>"
      ],
      "text/plain": [
       "                                count          mean           std  \\\n",
       "parcelid                      19908.0  1.298278e+07  2.516619e+06   \n",
       "logerror                      19908.0  1.773580e-01  2.752954e+00   \n",
       "bathroomcnt                   19908.0  9.890496e-02  1.437680e+00   \n",
       "bedroomcnt                    19908.0  1.624975e-01  8.241507e-01   \n",
       "calculatedfinishedsquarefeet  19908.0  1.484641e-01  7.685811e-01   \n",
       "fips                          19908.0  6.049083e+03  2.094239e+01   \n",
       "latitude                      19908.0  3.401717e+07  2.676663e+05   \n",
       "longitude                     19908.0 -1.181875e+08  3.496213e+05   \n",
       "lotsizesquarefeet             19908.0  6.428645e-02  9.422109e-01   \n",
       "rawcensustractandblock        19908.0  6.049389e+07  2.078543e+05   \n",
       "regionidcity                  19908.0  3.415898e+04  5.158238e+04   \n",
       "regionidzip                   19908.0  9.658094e+04  2.189265e+03   \n",
       "yearbuilt                     19908.0  1.960790e+03  2.170324e+01   \n",
       "structuretaxvaluedollarcnt    19908.0  1.792298e-01  7.872728e-01   \n",
       "taxvaluedollarcnt             19908.0  1.016849e-01  7.079524e-01   \n",
       "landtaxvaluedollarcnt         19908.0  1.416750e-01  6.672458e-01   \n",
       "taxamount                     19908.0  9.576323e-02  7.388771e-01   \n",
       "censustractandblock           19908.0  6.051513e+13  3.001882e+12   \n",
       "bedroom_cluster               19908.0  3.130400e-01  9.699647e-01   \n",
       "bathroom_cluster              19908.0  1.389040e+00  9.125606e-01   \n",
       "homearea_cluster              19908.0  3.073136e-01  9.594128e-01   \n",
       "lotarea_cluster               19908.0  1.681234e-01  5.216126e-01   \n",
       "hometax_cluster               19908.0  5.368696e-01  1.226741e+00   \n",
       "\n",
       "                                       min           25%           50%  \\\n",
       "parcelid                      1.071188e+07  1.155290e+07  1.261307e+07   \n",
       "logerror                     -7.582382e+01 -4.926497e-01  7.054090e-18   \n",
       "bathroomcnt                  -4.000000e+00  0.000000e+00  0.000000e+00   \n",
       "bedroomcnt                   -3.000000e+00  0.000000e+00  0.000000e+00   \n",
       "calculatedfinishedsquarefeet -1.825748e+00 -4.135241e-01  0.000000e+00   \n",
       "fips                          6.037000e+03  6.037000e+03  6.037000e+03   \n",
       "latitude                      3.334128e+07  3.382694e+07  3.399828e+07   \n",
       "longitude                    -1.194484e+08 -1.183737e+08 -1.181408e+08   \n",
       "lotsizesquarefeet            -2.564977e+00 -4.797614e-01  0.000000e+00   \n",
       "rawcensustractandblock        6.037101e+07  6.037401e+07  6.037577e+07   \n",
       "regionidcity                  3.491000e+03  1.244700e+04  2.481200e+04   \n",
       "regionidzip                   9.598200e+04  9.620600e+04  9.641500e+04   \n",
       "yearbuilt                     1.885000e+03  1.949000e+03  1.959000e+03   \n",
       "structuretaxvaluedollarcnt   -1.047329e+00 -4.078999e-01  0.000000e+00   \n",
       "taxvaluedollarcnt            -9.483759e-01 -4.701359e-01  0.000000e+00   \n",
       "landtaxvaluedollarcnt        -6.606970e-01 -4.483160e-01  0.000000e+00   \n",
       "taxamount                    -1.119231e+00 -4.724217e-01 -1.250288e-16   \n",
       "censustractandblock           6.037101e+13  6.037402e+13  6.037577e+13   \n",
       "bedroom_cluster               0.000000e+00  0.000000e+00  0.000000e+00   \n",
       "bathroom_cluster              0.000000e+00  0.000000e+00  2.000000e+00   \n",
       "homearea_cluster              0.000000e+00  0.000000e+00  0.000000e+00   \n",
       "lotarea_cluster               0.000000e+00  0.000000e+00  0.000000e+00   \n",
       "hometax_cluster               0.000000e+00  0.000000e+00  0.000000e+00   \n",
       "\n",
       "                                       75%           max  \n",
       "parcelid                      1.410735e+07  1.629608e+08  \n",
       "logerror                      5.073503e-01  5.155858e+01  \n",
       "bathroomcnt                   1.000000e+00  5.000000e+00  \n",
       "bedroomcnt                    1.000000e+00  2.000000e+00  \n",
       "calculatedfinishedsquarefeet  5.864759e-01  2.960988e+00  \n",
       "fips                          6.059000e+03  6.111000e+03  \n",
       "latitude                      3.418507e+07  3.471832e+07  \n",
       "longitude                    -1.179403e+08 -1.175723e+08  \n",
       "lotsizesquarefeet             5.202386e-01  2.989348e+00  \n",
       "rawcensustractandblock        6.059042e+07  6.111009e+07  \n",
       "regionidcity                  4.022700e+04  3.965560e+05  \n",
       "regionidzip                   9.699800e+04  3.996750e+05  \n",
       "yearbuilt                     1.975000e+03  2.015000e+03  \n",
       "structuretaxvaluedollarcnt    5.921001e-01  2.998715e+00  \n",
       "taxvaluedollarcnt             5.298641e-01  2.739347e+00  \n",
       "landtaxvaluedollarcnt         5.516840e-01  2.570335e+00  \n",
       "taxamount                     5.275783e-01  2.765188e+00  \n",
       "censustractandblock           6.059042e+13  4.830301e+14  \n",
       "bedroom_cluster               0.000000e+00  4.000000e+00  \n",
       "bathroom_cluster              2.000000e+00  4.000000e+00  \n",
       "homearea_cluster              0.000000e+00  4.000000e+00  \n",
       "lotarea_cluster               0.000000e+00  4.000000e+00  \n",
       "hometax_cluster               0.000000e+00  4.000000e+00  "
      ]
     },
     "execution_count": 57,
     "metadata": {},
     "output_type": "execute_result"
    }
   ],
   "source": [
    "scaled_train.describe().T"
   ]
  },
  {
   "cell_type": "markdown",
   "id": "c3e87e03-4605-4095-a054-53c6a2407a13",
   "metadata": {},
   "source": [
    "### Regression Modeling"
   ]
  },
  {
   "cell_type": "code",
   "execution_count": 58,
   "id": "85a50ecf-f651-4055-a82c-5ed0df867854",
   "metadata": {},
   "outputs": [],
   "source": [
    "# splits our training set into x and y values to run in our algorithms\n",
    "X_train_scaled = scaled_train.drop(columns=['logerror', 'parcelid', 'transactiondate', 'county', 'propertycountylandusecode', 'taxvaluedollarcnt', 'yearbuilt', 'censustractandblock', 'fips'])\n",
    "y_train_scaled = scaled_train['logerror']\n",
    "\n",
    "# splits our validate set into x and y values to run in our algorithms\n",
    "X_validate_scaled = scaled_validate.drop(columns=['logerror', 'parcelid', 'transactiondate', 'county', 'propertycountylandusecode', 'taxvaluedollarcnt',  'yearbuilt', 'censustractandblock', 'fips'])\n",
    "y_validate_scaled = scaled_validate['logerror']\n",
    "\n",
    "                                         \n",
    "# splits our test set into x and y values to run in our algorithms\n",
    "X_test_scaled = scaled_test.drop(columns=['logerror', 'parcelid', 'transactiondate', 'county', 'propertycountylandusecode', 'taxvaluedollarcnt', 'yearbuilt', 'censustractandblock', 'fips'])\n",
    "y_test_scaled = scaled_test['logerror']"
   ]
  },
  {
   "cell_type": "code",
   "execution_count": null,
   "id": "5f046371-e854-44ba-abd1-db71f0ff2422",
   "metadata": {},
   "outputs": [],
   "source": []
  },
  {
   "cell_type": "markdown",
   "id": "7af544c6-d59f-45d1-8a36-d2a591e94e2a",
   "metadata": {},
   "source": [
    "##### Establishing Baseline"
   ]
  },
  {
   "cell_type": "code",
   "execution_count": 59,
   "id": "6d9a0712-12ac-4018-90c0-2db2782e0068",
   "metadata": {},
   "outputs": [
    {
     "name": "stdout",
     "output_type": "stream",
     "text": [
      "RMSE using Mean\n",
      "Train/In-Sample:  2.75 \n",
      "Validate/Out-of-Sample:  2.65 \n",
      "Test/Out-of-Sample:  2.46\n",
      "RMSE Baseline is 2.6591550952368426\n"
     ]
    }
   ],
   "source": [
    "# We need y_train and y_validate to be dataframes to append the new columns with predicted values. \n",
    "y_train_scaled = pd.DataFrame(y_train_scaled)\n",
    "y_validate_scaled = pd.DataFrame(y_validate_scaled)\n",
    "y_test_scaled = pd.DataFrame(y_test_scaled)\n",
    "\n",
    "# Predict logerror_pred_mean\n",
    "train_logerror_pred_mean = y_train_scaled['logerror'].mean()\n",
    "validate_logerror_pred_mean = y_validate_scaled['logerror'].mean()\n",
    "test_logerror_pred_mean = y_test_scaled['logerror'].mean()\n",
    "y_train_scaled['train_logerror_pred_mean'] = train_logerror_pred_mean\n",
    "y_validate_scaled['validate_logerror_pred_mean'] = validate_logerror_pred_mean\n",
    "y_test_scaled['test_logerror_pred_mean'] = test_logerror_pred_mean\n",
    "\n",
    "\n",
    "# RMSE of logerror_pred_mean\n",
    "rmse_train = mean_squared_error(y_train_scaled.logerror, y_train_scaled.train_logerror_pred_mean)**(1/2)\n",
    "rmse_validate = mean_squared_error(y_validate_scaled.logerror, y_validate_scaled.validate_logerror_pred_mean)**(1/2)\n",
    "rmse_test = mean_squared_error(y_test_scaled.logerror, y_test_scaled.test_logerror_pred_mean)**(1/2)\n",
    "\n",
    "print(\"RMSE using Mean\\nTrain/In-Sample: \", round(rmse_train, 2), \n",
    "      \"\\nValidate/Out-of-Sample: \", round(rmse_validate, 2),\n",
    "      \"\\nTest/Out-of-Sample: \", round(rmse_test, 2))\n",
    "\n",
    "df_baseline_eval = ((rmse_train*.48) + (rmse_validate*.32) + (rmse_test*.20))\n",
    "\n",
    "print(f'RMSE Baseline is {df_baseline_eval}')\n"
   ]
  },
  {
   "cell_type": "code",
   "execution_count": 60,
   "id": "bbdc5af1-899d-4125-8f58-9b24c93402b1",
   "metadata": {},
   "outputs": [
    {
     "data": {
      "image/png": "[encoded data removed]",
      "text/plain": [
       "<Figure size 432x288 with 1 Axes>"
      ]
     },
     "metadata": {
      "needs_background": "light"
     },
     "output_type": "display_data"
    }
   ],
   "source": [
    "# plot to visualize actual vs predicted. \n",
    "plt.hist(y_train_scaled.logerror, color='blue', alpha=.5, label=\"Log Error\")\n",
    "plt.hist(y_train_scaled.train_logerror_pred_mean, bins=1, color='red', alpha=.5, rwidth=100, label=\"Predicted Log Error - Mean\")\n",
    "plt.xlabel(\"Log Error\")\n",
    "plt.ylabel(\"Number of Properties\")\n",
    "plt.legend()\n",
    "plt.show()"
   ]
  },
  {
   "cell_type": "markdown",
   "id": "19fd3cd0-7f8f-4c2b-8ae0-aa2e25fd7614",
   "metadata": {},
   "source": [
    "#### Recursive Feature Elimination"
   ]
  },
  {
   "cell_type": "code",
   "execution_count": 61,
   "id": "c00deeca-157c-4075-90c8-76debc1d3bce",
   "metadata": {},
   "outputs": [],
   "source": [
    "# initialize the ML algorithm\n",
    "lm = LinearRegression()\n",
    "\n",
    "# create the rfe object, indicating the ML object (lm) and the number of features I want to end up with. \n",
    "rfe = RFE(lm, n_features_to_select=3)\n",
    "\n",
    "# fit the data using RFE\n",
    "rfe.fit(X_train_scaled,y_train_scaled)  \n",
    "\n",
    "# get the mask of the columns selected\n",
    "feature_mask = rfe.support_\n",
    "\n",
    "# get list of the column names. \n",
    "rfe_feature = X_train_scaled.iloc[:,feature_mask].columns.tolist()"
   ]
  },
  {
   "cell_type": "code",
   "execution_count": 62,
   "id": "bccb9a72-d6b2-40ca-a314-f456014fda9e",
   "metadata": {},
   "outputs": [
    {
     "data": {
      "text/plain": [
       "['bedroom_cluster', 'homearea_cluster', 'lotarea_cluster']"
      ]
     },
     "execution_count": 62,
     "metadata": {},
     "output_type": "execute_result"
    }
   ],
   "source": [
    "rfe_feature"
   ]
  },
  {
   "cell_type": "markdown",
   "id": "e49e8881-47d8-4a34-8ba3-77398c08f242",
   "metadata": {
    "tags": []
   },
   "source": [
    "### Modeling Summary\n",
    "- Clusters were created showing the best grouping with k = 5, however none of the relationships were strong enough to produce meaningful data to run linear regressions\n",
    "- Recursive feature elimination did show us which of our relationships were too weak to consider for future investigation"
   ]
  },
  {
   "cell_type": "markdown",
   "id": "a13441cd-4033-42b0-9932-e7f242ce2664",
   "metadata": {},
   "source": [
    "<hr style=\"border-top: 12px groove royalblue; margin-top: 1px; margin-bottom: 1px\"></hr>"
   ]
  },
  {
   "cell_type": "markdown",
   "id": "f29bf819-7da7-43b8-9350-f3f45c7b0bbd",
   "metadata": {
    "tags": []
   },
   "source": [
    "### <font color='darkblue'>- Key Takeaways and Next Steps</font>"
   ]
  },
  {
   "cell_type": "markdown",
   "id": "89ac819f-257f-46b7-9fa4-fdd650805000",
   "metadata": {
    "tags": []
   },
   "source": [
    "<hr style=\"border-top: 12px groove yellowgreen; margin-top: 1px; margin-bottom: 1px\"></hr>"
   ]
  },
  {
   "cell_type": "markdown",
   "id": "6d876be1-56f8-41fc-bbe5-5a6bafbc3d48",
   "metadata": {},
   "source": [
    "- The selected features don't have relationships strong enough to explain Zestimate log errors on their own.\n",
    "- These can be eliminated as primary candidates for factors that satisfactorily explain the difference between predicted and actual home sale values by themselves.\n",
    "- We can probably get much stronger relationships by focusing on geographic data breaking it down to the neighborhood level to reflect local home values that both sellers and buyers tend to use to determine what they'll list and pay for homes.\n",
    "- In the future we can incorporate external sources that could show factors affecting home sale prices, like recent tax rates, local job market, or major changes in the economy."
   ]
  },
  {
   "cell_type": "code",
   "execution_count": null,
   "id": "6fda0437-36f4-4e84-8547-830f0fc08ac1",
   "metadata": {},
   "outputs": [],
   "source": []
  }
 ],
 "metadata": {
  "kernelspec": {
   "display_name": "Python 3 (ipykernel)",
   "language": "python",
   "name": "python3"
  },
  "language_info": {
   "codemirror_mode": {
    "name": "ipython",
    "version": 3
   },
   "file_extension": ".py",
   "mimetype": "text/x-python",
   "name": "python",
   "nbconvert_exporter": "python",
   "pygments_lexer": "ipython3",
   "version": "3.9.7"
  }
 },
 "nbformat": 4,
 "nbformat_minor": 5
}
